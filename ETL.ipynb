{
 "cells": [
  {
   "cell_type": "markdown",
   "id": "3673b207",
   "metadata": {},
   "source": [
    "#### Imports & environnement"
   ]
  },
  {
   "cell_type": "code",
   "execution_count": 178,
   "id": "c4100c0a",
   "metadata": {},
   "outputs": [],
   "source": [
    "# from dotenv import load_dotenv\n",
    "import pandas as pd\n",
    "import os"
   ]
  },
  {
   "cell_type": "markdown",
   "id": "e360913d",
   "metadata": {},
   "source": [
    "#### Fonctions"
   ]
  },
  {
   "cell_type": "code",
   "execution_count": 179,
   "id": "7849874b",
   "metadata": {},
   "outputs": [],
   "source": [
    "# netoyage texte\n",
    "import re\n",
    "\n",
    "def nettoyer_caracteres(texte):\n",
    "     return re.sub(r\"[^\\wàâäéèêëîïôöùûüÿçæœÀÂÄÉÈÊËÎÏÔÖÙÛÜŸÇÆŒ' -]\", \"\", str(texte))"
   ]
  },
  {
   "cell_type": "code",
   "execution_count": 180,
   "id": "65b3167f",
   "metadata": {},
   "outputs": [],
   "source": [
    "def convertir_int(serie, valeur_remplacement=99000):\n",
    "    def convertir_valeur(valeur):\n",
    "        try:\n",
    "            # Tente de convertir la valeur en entier\n",
    "            return int(valeur)\n",
    "        except ValueError:\n",
    "            # En cas d'échec, retourne la valeur de remplacement\n",
    "            return valeur_remplacement\n",
    "\n",
    "    # Applique la fonction de conversion à chaque élément de la série\n",
    "    return serie.apply(convertir_valeur)"
   ]
  },
  {
   "cell_type": "markdown",
   "id": "74ad359b",
   "metadata": {},
   "source": [
    "#### Read file"
   ]
  },
  {
   "cell_type": "code",
   "execution_count": 181,
   "id": "fd8e8faa",
   "metadata": {},
   "outputs": [],
   "source": [
    "# Création du Dataframe\n",
    "df = pd.read_csv('datas/dataw_fro03.csv').reset_index(drop=True)"
   ]
  },
  {
   "cell_type": "code",
   "execution_count": 182,
   "id": "0056e032",
   "metadata": {},
   "outputs": [
    {
     "data": {
      "text/plain": [
       "(135277, 25)"
      ]
     },
     "execution_count": 182,
     "metadata": {},
     "output_type": "execute_result"
    }
   ],
   "source": [
    "# Vérification de la taille\n",
    "df.shape"
   ]
  },
  {
   "cell_type": "code",
   "execution_count": 183,
   "id": "805c7829",
   "metadata": {},
   "outputs": [
    {
     "data": {
      "application/vnd.microsoft.datawrangler.viewer.v0+json": {
       "columns": [
        {
         "name": "index",
         "rawType": "int64",
         "type": "integer"
        },
        {
         "name": "codcli",
         "rawType": "int64",
         "type": "integer"
        },
        {
         "name": "genrecli",
         "rawType": "object",
         "type": "string"
        },
        {
         "name": "nomcli",
         "rawType": "object",
         "type": "string"
        },
        {
         "name": "prenomcli",
         "rawType": "object",
         "type": "string"
        },
        {
         "name": "cpcli",
         "rawType": "int64",
         "type": "integer"
        },
        {
         "name": "villecli",
         "rawType": "object",
         "type": "string"
        },
        {
         "name": "codcde",
         "rawType": "int64",
         "type": "integer"
        },
        {
         "name": "datcde",
         "rawType": "object",
         "type": "string"
        },
        {
         "name": "timbrecli",
         "rawType": "float64",
         "type": "float"
        },
        {
         "name": "timbrecde",
         "rawType": "float64",
         "type": "float"
        },
        {
         "name": "Nbcolis",
         "rawType": "float64",
         "type": "float"
        },
        {
         "name": "cheqcli",
         "rawType": "float64",
         "type": "float"
        },
        {
         "name": "barchive",
         "rawType": "int64",
         "type": "integer"
        },
        {
         "name": "bstock",
         "rawType": "int64",
         "type": "integer"
        },
        {
         "name": "codobj",
         "rawType": "int64",
         "type": "integer"
        },
        {
         "name": "qte",
         "rawType": "float64",
         "type": "float"
        },
        {
         "name": "Colis",
         "rawType": "float64",
         "type": "float"
        },
        {
         "name": "libobj",
         "rawType": "object",
         "type": "string"
        },
        {
         "name": "Tailleobj",
         "rawType": "object",
         "type": "string"
        },
        {
         "name": "Poidsobj",
         "rawType": "int64",
         "type": "integer"
        },
        {
         "name": "points",
         "rawType": "float64",
         "type": "float"
        },
        {
         "name": "indispobj",
         "rawType": "int64",
         "type": "integer"
        },
        {
         "name": "libcondit",
         "rawType": "object",
         "type": "string"
        },
        {
         "name": "prixcond",
         "rawType": "int64",
         "type": "integer"
        },
        {
         "name": "puobj",
         "rawType": "int64",
         "type": "integer"
        }
       ],
       "ref": "cfb6d7dc-1967-4d26-9fd6-f2aa593e435e",
       "rows": [
        [
         "0",
         "446",
         "Mme",
         "CHRETIEN",
         "Daniel",
         "14540",
         "BOURGUEBUS",
         "478",
         "2004-10-22 00:00:00",
         "5.0",
         "4.8",
         "1.0",
         null,
         "1",
         "1",
         "38",
         "2.0",
         "1.0",
         "Polo",
         "XL",
         "230",
         "60.0",
         "0",
         "Carton Tete de menagere",
         "0",
         "0"
        ],
        [
         "1",
         "446",
         "Mme",
         "CHRETIEN",
         "Daniel",
         "14540",
         "BOURGUEBUS",
         "478",
         "2004-10-22 00:00:00",
         "5.0",
         "4.8",
         "1.0",
         null,
         "1",
         "1",
         "30",
         "2.0",
         "1.0",
         "T-shirt Blanc",
         "L",
         "170",
         "60.0",
         "0",
         "Carton Tete de menagere",
         "0",
         "0"
        ],
        [
         "2",
         "446",
         "Mme",
         "CHRETIEN",
         "Daniel",
         "14540",
         "BOURGUEBUS",
         "478",
         "2004-10-22 00:00:00",
         "5.0",
         "4.8",
         "1.0",
         null,
         "1",
         "1",
         "45",
         "1.0",
         "1.0",
         "Montre",
         "Homme",
         "30",
         "150.0",
         "0",
         "Carton Tete de menagere",
         "0",
         "0"
        ],
        [
         "3",
         "17860",
         "M.",
         "VERARDO",
         "Anthony",
         "35400",
         "SAINT MALO",
         "21239",
         "2006-10-03 00:00:00",
         "0.0",
         "3.9",
         "1.0",
         "1.45",
         "1",
         "1",
         "31",
         "1.0",
         "1.0",
         "T-shirt Blanc",
         "XL",
         "180",
         "60.0",
         "0",
         "Distingo 500 g",
         "34",
         "0"
        ],
        [
         "4",
         "1330",
         "Mme",
         "ROBERT",
         "Yvonne",
         "61000",
         "ALENCON",
         "1386",
         "2004-11-23 00:00:00",
         "4.0",
         "6.5",
         "1.0",
         null,
         "1",
         "1",
         "42",
         "3.0",
         "1.0",
         "Tete de menagere",
         "Confidence",
         "250",
         "100.0",
         "0",
         "Carton Tete de menagere",
         "0",
         "0"
        ]
       ],
       "shape": {
        "columns": 25,
        "rows": 5
       }
      },
      "text/html": [
       "<div>\n",
       "<style scoped>\n",
       "    .dataframe tbody tr th:only-of-type {\n",
       "        vertical-align: middle;\n",
       "    }\n",
       "\n",
       "    .dataframe tbody tr th {\n",
       "        vertical-align: top;\n",
       "    }\n",
       "\n",
       "    .dataframe thead th {\n",
       "        text-align: right;\n",
       "    }\n",
       "</style>\n",
       "<table border=\"1\" class=\"dataframe\">\n",
       "  <thead>\n",
       "    <tr style=\"text-align: right;\">\n",
       "      <th></th>\n",
       "      <th>codcli</th>\n",
       "      <th>genrecli</th>\n",
       "      <th>nomcli</th>\n",
       "      <th>prenomcli</th>\n",
       "      <th>cpcli</th>\n",
       "      <th>villecli</th>\n",
       "      <th>codcde</th>\n",
       "      <th>datcde</th>\n",
       "      <th>timbrecli</th>\n",
       "      <th>timbrecde</th>\n",
       "      <th>...</th>\n",
       "      <th>qte</th>\n",
       "      <th>Colis</th>\n",
       "      <th>libobj</th>\n",
       "      <th>Tailleobj</th>\n",
       "      <th>Poidsobj</th>\n",
       "      <th>points</th>\n",
       "      <th>indispobj</th>\n",
       "      <th>libcondit</th>\n",
       "      <th>prixcond</th>\n",
       "      <th>puobj</th>\n",
       "    </tr>\n",
       "  </thead>\n",
       "  <tbody>\n",
       "    <tr>\n",
       "      <th>0</th>\n",
       "      <td>446</td>\n",
       "      <td>Mme</td>\n",
       "      <td>CHRETIEN</td>\n",
       "      <td>Daniel</td>\n",
       "      <td>14540</td>\n",
       "      <td>BOURGUEBUS</td>\n",
       "      <td>478</td>\n",
       "      <td>2004-10-22 00:00:00</td>\n",
       "      <td>5.0</td>\n",
       "      <td>4.8</td>\n",
       "      <td>...</td>\n",
       "      <td>2.0</td>\n",
       "      <td>1.0</td>\n",
       "      <td>Polo</td>\n",
       "      <td>XL</td>\n",
       "      <td>230</td>\n",
       "      <td>60.0</td>\n",
       "      <td>0</td>\n",
       "      <td>Carton Tete de menagere</td>\n",
       "      <td>0</td>\n",
       "      <td>0</td>\n",
       "    </tr>\n",
       "    <tr>\n",
       "      <th>1</th>\n",
       "      <td>446</td>\n",
       "      <td>Mme</td>\n",
       "      <td>CHRETIEN</td>\n",
       "      <td>Daniel</td>\n",
       "      <td>14540</td>\n",
       "      <td>BOURGUEBUS</td>\n",
       "      <td>478</td>\n",
       "      <td>2004-10-22 00:00:00</td>\n",
       "      <td>5.0</td>\n",
       "      <td>4.8</td>\n",
       "      <td>...</td>\n",
       "      <td>2.0</td>\n",
       "      <td>1.0</td>\n",
       "      <td>T-shirt Blanc</td>\n",
       "      <td>L</td>\n",
       "      <td>170</td>\n",
       "      <td>60.0</td>\n",
       "      <td>0</td>\n",
       "      <td>Carton Tete de menagere</td>\n",
       "      <td>0</td>\n",
       "      <td>0</td>\n",
       "    </tr>\n",
       "    <tr>\n",
       "      <th>2</th>\n",
       "      <td>446</td>\n",
       "      <td>Mme</td>\n",
       "      <td>CHRETIEN</td>\n",
       "      <td>Daniel</td>\n",
       "      <td>14540</td>\n",
       "      <td>BOURGUEBUS</td>\n",
       "      <td>478</td>\n",
       "      <td>2004-10-22 00:00:00</td>\n",
       "      <td>5.0</td>\n",
       "      <td>4.8</td>\n",
       "      <td>...</td>\n",
       "      <td>1.0</td>\n",
       "      <td>1.0</td>\n",
       "      <td>Montre</td>\n",
       "      <td>Homme</td>\n",
       "      <td>30</td>\n",
       "      <td>150.0</td>\n",
       "      <td>0</td>\n",
       "      <td>Carton Tete de menagere</td>\n",
       "      <td>0</td>\n",
       "      <td>0</td>\n",
       "    </tr>\n",
       "    <tr>\n",
       "      <th>3</th>\n",
       "      <td>17860</td>\n",
       "      <td>M.</td>\n",
       "      <td>VERARDO</td>\n",
       "      <td>Anthony</td>\n",
       "      <td>35400</td>\n",
       "      <td>SAINT MALO</td>\n",
       "      <td>21239</td>\n",
       "      <td>2006-10-03 00:00:00</td>\n",
       "      <td>0.0</td>\n",
       "      <td>3.9</td>\n",
       "      <td>...</td>\n",
       "      <td>1.0</td>\n",
       "      <td>1.0</td>\n",
       "      <td>T-shirt Blanc</td>\n",
       "      <td>XL</td>\n",
       "      <td>180</td>\n",
       "      <td>60.0</td>\n",
       "      <td>0</td>\n",
       "      <td>Distingo 500 g</td>\n",
       "      <td>34</td>\n",
       "      <td>0</td>\n",
       "    </tr>\n",
       "    <tr>\n",
       "      <th>4</th>\n",
       "      <td>1330</td>\n",
       "      <td>Mme</td>\n",
       "      <td>ROBERT</td>\n",
       "      <td>Yvonne</td>\n",
       "      <td>61000</td>\n",
       "      <td>ALENCON</td>\n",
       "      <td>1386</td>\n",
       "      <td>2004-11-23 00:00:00</td>\n",
       "      <td>4.0</td>\n",
       "      <td>6.5</td>\n",
       "      <td>...</td>\n",
       "      <td>3.0</td>\n",
       "      <td>1.0</td>\n",
       "      <td>Tete de menagere</td>\n",
       "      <td>Confidence</td>\n",
       "      <td>250</td>\n",
       "      <td>100.0</td>\n",
       "      <td>0</td>\n",
       "      <td>Carton Tete de menagere</td>\n",
       "      <td>0</td>\n",
       "      <td>0</td>\n",
       "    </tr>\n",
       "  </tbody>\n",
       "</table>\n",
       "<p>5 rows × 25 columns</p>\n",
       "</div>"
      ],
      "text/plain": [
       "   codcli genrecli    nomcli prenomcli  cpcli    villecli  codcde  \\\n",
       "0     446      Mme  CHRETIEN    Daniel  14540  BOURGUEBUS     478   \n",
       "1     446      Mme  CHRETIEN    Daniel  14540  BOURGUEBUS     478   \n",
       "2     446      Mme  CHRETIEN    Daniel  14540  BOURGUEBUS     478   \n",
       "3   17860       M.   VERARDO   Anthony  35400  SAINT MALO   21239   \n",
       "4    1330      Mme    ROBERT    Yvonne  61000     ALENCON    1386   \n",
       "\n",
       "                datcde  timbrecli  timbrecde  ...  qte  Colis  \\\n",
       "0  2004-10-22 00:00:00        5.0        4.8  ...  2.0    1.0   \n",
       "1  2004-10-22 00:00:00        5.0        4.8  ...  2.0    1.0   \n",
       "2  2004-10-22 00:00:00        5.0        4.8  ...  1.0    1.0   \n",
       "3  2006-10-03 00:00:00        0.0        3.9  ...  1.0    1.0   \n",
       "4  2004-11-23 00:00:00        4.0        6.5  ...  3.0    1.0   \n",
       "\n",
       "             libobj   Tailleobj  Poidsobj  points  indispobj  \\\n",
       "0              Polo          XL       230    60.0          0   \n",
       "1     T-shirt Blanc           L       170    60.0          0   \n",
       "2            Montre       Homme        30   150.0          0   \n",
       "3     T-shirt Blanc          XL       180    60.0          0   \n",
       "4  Tete de menagere  Confidence       250   100.0          0   \n",
       "\n",
       "                 libcondit prixcond  puobj  \n",
       "0  Carton Tete de menagere        0      0  \n",
       "1  Carton Tete de menagere        0      0  \n",
       "2  Carton Tete de menagere        0      0  \n",
       "3           Distingo 500 g       34      0  \n",
       "4  Carton Tete de menagere        0      0  \n",
       "\n",
       "[5 rows x 25 columns]"
      ]
     },
     "execution_count": 183,
     "metadata": {},
     "output_type": "execute_result"
    }
   ],
   "source": [
    "# Voir\n",
    "df.head()"
   ]
  },
  {
   "cell_type": "markdown",
   "id": "bd803b79",
   "metadata": {},
   "source": [
    "#### Nettoyage"
   ]
  },
  {
   "cell_type": "code",
   "execution_count": 184,
   "id": "f43b4792",
   "metadata": {},
   "outputs": [],
   "source": [
    "# Nan en 0\n",
    "df = df.fillna(0)"
   ]
  },
  {
   "cell_type": "markdown",
   "id": "9e038ab4",
   "metadata": {},
   "source": [
    "Dates"
   ]
  },
  {
   "cell_type": "code",
   "execution_count": 185,
   "id": "ed5134b3",
   "metadata": {},
   "outputs": [],
   "source": [
    "# turn in date\n",
    "df['datcde'] = pd.to_datetime(df['datcde'], errors='coerce')"
   ]
  },
  {
   "cell_type": "code",
   "execution_count": 186,
   "id": "fc853fc9",
   "metadata": {},
   "outputs": [],
   "source": [
    "# format\n",
    "df['datcde'] = df['datcde'].dt.strftime('%Y-%m-%d')"
   ]
  },
  {
   "cell_type": "code",
   "execution_count": 187,
   "id": "e72869d2",
   "metadata": {},
   "outputs": [],
   "source": [
    "# supprimer les dates inexistantes\n",
    "df_supprimé = df[(df['datcde'] < '1990-01-01') | (df['datcde'].isna())]"
   ]
  },
  {
   "cell_type": "code",
   "execution_count": 188,
   "id": "6dc5f5fa",
   "metadata": {},
   "outputs": [
    {
     "name": "stderr",
     "output_type": "stream",
     "text": [
      "C:\\Users\\f.dumont\\AppData\\Local\\Temp\\ipykernel_20832\\2741674458.py:1: SettingWithCopyWarning: \n",
      "A value is trying to be set on a copy of a slice from a DataFrame.\n",
      "Try using .loc[row_indexer,col_indexer] = value instead\n",
      "\n",
      "See the caveats in the documentation: https://pandas.pydata.org/pandas-docs/stable/user_guide/indexing.html#returning-a-view-versus-a-copy\n",
      "  df_supprimé['raison'] = 'Date erronée'\n"
     ]
    }
   ],
   "source": [
    "df_supprimé['raison'] = 'Date erronée'"
   ]
  },
  {
   "cell_type": "code",
   "execution_count": 189,
   "id": "bfdb1416",
   "metadata": {},
   "outputs": [],
   "source": [
    "# Supprimer les dates inexistantes\n",
    "df =  df[(df['datcde'] >= '1990-01-01') & (df['datcde'].notna())]"
   ]
  },
  {
   "cell_type": "markdown",
   "id": "33f4fcc4",
   "metadata": {},
   "source": [
    "Code postaux"
   ]
  },
  {
   "cell_type": "code",
   "execution_count": 190,
   "id": "27c2fb6e",
   "metadata": {},
   "outputs": [],
   "source": [
    "df['cpcli'] = df['cpcli'].astype(str)\n",
    "df['DEP'] = df['cpcli'].str[0:2]"
   ]
  },
  {
   "cell_type": "code",
   "execution_count": 191,
   "id": "93815017",
   "metadata": {},
   "outputs": [
    {
     "data": {
      "application/vnd.microsoft.datawrangler.viewer.v0+json": {
       "columns": [
        {
         "name": "index",
         "rawType": "int64",
         "type": "integer"
        },
        {
         "name": "codcli",
         "rawType": "int64",
         "type": "integer"
        },
        {
         "name": "genrecli",
         "rawType": "object",
         "type": "string"
        },
        {
         "name": "nomcli",
         "rawType": "object",
         "type": "string"
        },
        {
         "name": "prenomcli",
         "rawType": "object",
         "type": "string"
        },
        {
         "name": "cpcli",
         "rawType": "object",
         "type": "string"
        },
        {
         "name": "villecli",
         "rawType": "object",
         "type": "string"
        },
        {
         "name": "codcde",
         "rawType": "int64",
         "type": "integer"
        },
        {
         "name": "datcde",
         "rawType": "object",
         "type": "string"
        },
        {
         "name": "timbrecli",
         "rawType": "float64",
         "type": "float"
        },
        {
         "name": "timbrecde",
         "rawType": "float64",
         "type": "float"
        },
        {
         "name": "Nbcolis",
         "rawType": "float64",
         "type": "float"
        },
        {
         "name": "cheqcli",
         "rawType": "float64",
         "type": "float"
        },
        {
         "name": "barchive",
         "rawType": "int64",
         "type": "integer"
        },
        {
         "name": "bstock",
         "rawType": "int64",
         "type": "integer"
        },
        {
         "name": "codobj",
         "rawType": "int64",
         "type": "integer"
        },
        {
         "name": "qte",
         "rawType": "float64",
         "type": "float"
        },
        {
         "name": "Colis",
         "rawType": "float64",
         "type": "float"
        },
        {
         "name": "libobj",
         "rawType": "object",
         "type": "string"
        },
        {
         "name": "Tailleobj",
         "rawType": "object",
         "type": "string"
        },
        {
         "name": "Poidsobj",
         "rawType": "int64",
         "type": "integer"
        },
        {
         "name": "points",
         "rawType": "float64",
         "type": "float"
        },
        {
         "name": "indispobj",
         "rawType": "int64",
         "type": "integer"
        },
        {
         "name": "libcondit",
         "rawType": "object",
         "type": "string"
        },
        {
         "name": "prixcond",
         "rawType": "int64",
         "type": "integer"
        },
        {
         "name": "puobj",
         "rawType": "int64",
         "type": "integer"
        },
        {
         "name": "DEP",
         "rawType": "object",
         "type": "string"
        }
       ],
       "ref": "10fd1616-deda-43f6-812b-43ce83cea418",
       "rows": [
        [
         "0",
         "446",
         "Mme",
         "CHRETIEN",
         "Daniel",
         "14540",
         "BOURGUEBUS",
         "478",
         "2004-10-22",
         "5.0",
         "4.8",
         "1.0",
         "0.0",
         "1",
         "1",
         "38",
         "2.0",
         "1.0",
         "Polo",
         "XL",
         "230",
         "60.0",
         "0",
         "Carton Tete de menagere",
         "0",
         "0",
         "14"
        ],
        [
         "1",
         "446",
         "Mme",
         "CHRETIEN",
         "Daniel",
         "14540",
         "BOURGUEBUS",
         "478",
         "2004-10-22",
         "5.0",
         "4.8",
         "1.0",
         "0.0",
         "1",
         "1",
         "30",
         "2.0",
         "1.0",
         "T-shirt Blanc",
         "L",
         "170",
         "60.0",
         "0",
         "Carton Tete de menagere",
         "0",
         "0",
         "14"
        ],
        [
         "2",
         "446",
         "Mme",
         "CHRETIEN",
         "Daniel",
         "14540",
         "BOURGUEBUS",
         "478",
         "2004-10-22",
         "5.0",
         "4.8",
         "1.0",
         "0.0",
         "1",
         "1",
         "45",
         "1.0",
         "1.0",
         "Montre",
         "Homme",
         "30",
         "150.0",
         "0",
         "Carton Tete de menagere",
         "0",
         "0",
         "14"
        ],
        [
         "3",
         "17860",
         "M.",
         "VERARDO",
         "Anthony",
         "35400",
         "SAINT MALO",
         "21239",
         "2006-10-03",
         "0.0",
         "3.9",
         "1.0",
         "1.45",
         "1",
         "1",
         "31",
         "1.0",
         "1.0",
         "T-shirt Blanc",
         "XL",
         "180",
         "60.0",
         "0",
         "Distingo 500 g",
         "34",
         "0",
         "35"
        ],
        [
         "4",
         "1330",
         "Mme",
         "ROBERT",
         "Yvonne",
         "61000",
         "ALENCON",
         "1386",
         "2004-11-23",
         "4.0",
         "6.5",
         "1.0",
         "0.0",
         "1",
         "1",
         "42",
         "3.0",
         "1.0",
         "Tete de menagere",
         "Confidence",
         "250",
         "100.0",
         "0",
         "Carton Tete de menagere",
         "0",
         "0",
         "61"
        ]
       ],
       "shape": {
        "columns": 26,
        "rows": 5
       }
      },
      "text/html": [
       "<div>\n",
       "<style scoped>\n",
       "    .dataframe tbody tr th:only-of-type {\n",
       "        vertical-align: middle;\n",
       "    }\n",
       "\n",
       "    .dataframe tbody tr th {\n",
       "        vertical-align: top;\n",
       "    }\n",
       "\n",
       "    .dataframe thead th {\n",
       "        text-align: right;\n",
       "    }\n",
       "</style>\n",
       "<table border=\"1\" class=\"dataframe\">\n",
       "  <thead>\n",
       "    <tr style=\"text-align: right;\">\n",
       "      <th></th>\n",
       "      <th>codcli</th>\n",
       "      <th>genrecli</th>\n",
       "      <th>nomcli</th>\n",
       "      <th>prenomcli</th>\n",
       "      <th>cpcli</th>\n",
       "      <th>villecli</th>\n",
       "      <th>codcde</th>\n",
       "      <th>datcde</th>\n",
       "      <th>timbrecli</th>\n",
       "      <th>timbrecde</th>\n",
       "      <th>...</th>\n",
       "      <th>Colis</th>\n",
       "      <th>libobj</th>\n",
       "      <th>Tailleobj</th>\n",
       "      <th>Poidsobj</th>\n",
       "      <th>points</th>\n",
       "      <th>indispobj</th>\n",
       "      <th>libcondit</th>\n",
       "      <th>prixcond</th>\n",
       "      <th>puobj</th>\n",
       "      <th>DEP</th>\n",
       "    </tr>\n",
       "  </thead>\n",
       "  <tbody>\n",
       "    <tr>\n",
       "      <th>0</th>\n",
       "      <td>446</td>\n",
       "      <td>Mme</td>\n",
       "      <td>CHRETIEN</td>\n",
       "      <td>Daniel</td>\n",
       "      <td>14540</td>\n",
       "      <td>BOURGUEBUS</td>\n",
       "      <td>478</td>\n",
       "      <td>2004-10-22</td>\n",
       "      <td>5.0</td>\n",
       "      <td>4.8</td>\n",
       "      <td>...</td>\n",
       "      <td>1.0</td>\n",
       "      <td>Polo</td>\n",
       "      <td>XL</td>\n",
       "      <td>230</td>\n",
       "      <td>60.0</td>\n",
       "      <td>0</td>\n",
       "      <td>Carton Tete de menagere</td>\n",
       "      <td>0</td>\n",
       "      <td>0</td>\n",
       "      <td>14</td>\n",
       "    </tr>\n",
       "    <tr>\n",
       "      <th>1</th>\n",
       "      <td>446</td>\n",
       "      <td>Mme</td>\n",
       "      <td>CHRETIEN</td>\n",
       "      <td>Daniel</td>\n",
       "      <td>14540</td>\n",
       "      <td>BOURGUEBUS</td>\n",
       "      <td>478</td>\n",
       "      <td>2004-10-22</td>\n",
       "      <td>5.0</td>\n",
       "      <td>4.8</td>\n",
       "      <td>...</td>\n",
       "      <td>1.0</td>\n",
       "      <td>T-shirt Blanc</td>\n",
       "      <td>L</td>\n",
       "      <td>170</td>\n",
       "      <td>60.0</td>\n",
       "      <td>0</td>\n",
       "      <td>Carton Tete de menagere</td>\n",
       "      <td>0</td>\n",
       "      <td>0</td>\n",
       "      <td>14</td>\n",
       "    </tr>\n",
       "    <tr>\n",
       "      <th>2</th>\n",
       "      <td>446</td>\n",
       "      <td>Mme</td>\n",
       "      <td>CHRETIEN</td>\n",
       "      <td>Daniel</td>\n",
       "      <td>14540</td>\n",
       "      <td>BOURGUEBUS</td>\n",
       "      <td>478</td>\n",
       "      <td>2004-10-22</td>\n",
       "      <td>5.0</td>\n",
       "      <td>4.8</td>\n",
       "      <td>...</td>\n",
       "      <td>1.0</td>\n",
       "      <td>Montre</td>\n",
       "      <td>Homme</td>\n",
       "      <td>30</td>\n",
       "      <td>150.0</td>\n",
       "      <td>0</td>\n",
       "      <td>Carton Tete de menagere</td>\n",
       "      <td>0</td>\n",
       "      <td>0</td>\n",
       "      <td>14</td>\n",
       "    </tr>\n",
       "    <tr>\n",
       "      <th>3</th>\n",
       "      <td>17860</td>\n",
       "      <td>M.</td>\n",
       "      <td>VERARDO</td>\n",
       "      <td>Anthony</td>\n",
       "      <td>35400</td>\n",
       "      <td>SAINT MALO</td>\n",
       "      <td>21239</td>\n",
       "      <td>2006-10-03</td>\n",
       "      <td>0.0</td>\n",
       "      <td>3.9</td>\n",
       "      <td>...</td>\n",
       "      <td>1.0</td>\n",
       "      <td>T-shirt Blanc</td>\n",
       "      <td>XL</td>\n",
       "      <td>180</td>\n",
       "      <td>60.0</td>\n",
       "      <td>0</td>\n",
       "      <td>Distingo 500 g</td>\n",
       "      <td>34</td>\n",
       "      <td>0</td>\n",
       "      <td>35</td>\n",
       "    </tr>\n",
       "    <tr>\n",
       "      <th>4</th>\n",
       "      <td>1330</td>\n",
       "      <td>Mme</td>\n",
       "      <td>ROBERT</td>\n",
       "      <td>Yvonne</td>\n",
       "      <td>61000</td>\n",
       "      <td>ALENCON</td>\n",
       "      <td>1386</td>\n",
       "      <td>2004-11-23</td>\n",
       "      <td>4.0</td>\n",
       "      <td>6.5</td>\n",
       "      <td>...</td>\n",
       "      <td>1.0</td>\n",
       "      <td>Tete de menagere</td>\n",
       "      <td>Confidence</td>\n",
       "      <td>250</td>\n",
       "      <td>100.0</td>\n",
       "      <td>0</td>\n",
       "      <td>Carton Tete de menagere</td>\n",
       "      <td>0</td>\n",
       "      <td>0</td>\n",
       "      <td>61</td>\n",
       "    </tr>\n",
       "  </tbody>\n",
       "</table>\n",
       "<p>5 rows × 26 columns</p>\n",
       "</div>"
      ],
      "text/plain": [
       "   codcli genrecli    nomcli prenomcli  cpcli    villecli  codcde      datcde  \\\n",
       "0     446      Mme  CHRETIEN    Daniel  14540  BOURGUEBUS     478  2004-10-22   \n",
       "1     446      Mme  CHRETIEN    Daniel  14540  BOURGUEBUS     478  2004-10-22   \n",
       "2     446      Mme  CHRETIEN    Daniel  14540  BOURGUEBUS     478  2004-10-22   \n",
       "3   17860       M.   VERARDO   Anthony  35400  SAINT MALO   21239  2006-10-03   \n",
       "4    1330      Mme    ROBERT    Yvonne  61000     ALENCON    1386  2004-11-23   \n",
       "\n",
       "   timbrecli  timbrecde  ...  Colis            libobj   Tailleobj  Poidsobj  \\\n",
       "0        5.0        4.8  ...    1.0              Polo          XL       230   \n",
       "1        5.0        4.8  ...    1.0     T-shirt Blanc           L       170   \n",
       "2        5.0        4.8  ...    1.0            Montre       Homme        30   \n",
       "3        0.0        3.9  ...    1.0     T-shirt Blanc          XL       180   \n",
       "4        4.0        6.5  ...    1.0  Tete de menagere  Confidence       250   \n",
       "\n",
       "   points  indispobj                libcondit prixcond puobj  DEP  \n",
       "0    60.0          0  Carton Tete de menagere        0     0   14  \n",
       "1    60.0          0  Carton Tete de menagere        0     0   14  \n",
       "2   150.0          0  Carton Tete de menagere        0     0   14  \n",
       "3    60.0          0           Distingo 500 g       34     0   35  \n",
       "4   100.0          0  Carton Tete de menagere        0     0   61  \n",
       "\n",
       "[5 rows x 26 columns]"
      ]
     },
     "execution_count": 191,
     "metadata": {},
     "output_type": "execute_result"
    }
   ],
   "source": [
    "df.head()"
   ]
  },
  {
   "cell_type": "code",
   "execution_count": 192,
   "id": "aa834994",
   "metadata": {},
   "outputs": [],
   "source": [
    "# filtrer\n",
    "masque_chiffres = df['DEP'].str.isdigit()\n",
    "df_dep_supprimé = df[~masque_chiffres]\n",
    "df_dep_supprimé['raison']='DEP érroné'"
   ]
  },
  {
   "cell_type": "code",
   "execution_count": 193,
   "id": "79f09757",
   "metadata": {},
   "outputs": [
    {
     "data": {
      "text/plain": [
       "0"
      ]
     },
     "execution_count": 193,
     "metadata": {},
     "output_type": "execute_result"
    }
   ],
   "source": [
    "len(df_dep_supprimé)"
   ]
  },
  {
   "cell_type": "code",
   "execution_count": 194,
   "id": "6dcec4d6",
   "metadata": {},
   "outputs": [],
   "source": [
    "# ajouter ces lignes au df_supprimé\n",
    "df_supprimé = pd.concat([df_supprimé, df_dep_supprimé])"
   ]
  },
  {
   "cell_type": "code",
   "execution_count": 195,
   "id": "31a6bcd8",
   "metadata": {},
   "outputs": [],
   "source": [
    "df = df[masque_chiffres]"
   ]
  },
  {
   "cell_type": "markdown",
   "id": "7f570024",
   "metadata": {},
   "source": [
    "zone de textes"
   ]
  },
  {
   "cell_type": "code",
   "execution_count": 196,
   "id": "fcd3fbd0",
   "metadata": {},
   "outputs": [],
   "source": [
    "# colonnes à nettoyer :\n",
    "nettoyer_text = ['nomcli', 'prenomcli', 'villecli']"
   ]
  },
  {
   "cell_type": "code",
   "execution_count": 197,
   "id": "886814bc",
   "metadata": {},
   "outputs": [],
   "source": [
    "# enlever les caractères spéciaux\n",
    "df[nettoyer_text] = df[nettoyer_text].map(nettoyer_caracteres)"
   ]
  },
  {
   "cell_type": "code",
   "execution_count": 198,
   "id": "52c2b4f6",
   "metadata": {},
   "outputs": [],
   "source": [
    "df['nomcli']=df['nomcli'].str.title()"
   ]
  },
  {
   "cell_type": "code",
   "execution_count": 199,
   "id": "65ce8ccf",
   "metadata": {},
   "outputs": [],
   "source": [
    "df['prenomcli']=df['prenomcli'].str.title()"
   ]
  },
  {
   "cell_type": "code",
   "execution_count": 200,
   "id": "1c5d4920",
   "metadata": {},
   "outputs": [],
   "source": [
    "df['villecli']=df['villecli'].str.title()"
   ]
  },
  {
   "cell_type": "markdown",
   "id": "fa6257e3",
   "metadata": {},
   "source": [
    "Supprimer les .0 dans les index et int"
   ]
  },
  {
   "cell_type": "code",
   "execution_count": 201,
   "id": "778040e6",
   "metadata": {},
   "outputs": [],
   "source": [
    "df['codcde'] = df['codcde'].astype(str)"
   ]
  },
  {
   "cell_type": "code",
   "execution_count": 202,
   "id": "0aa98e39",
   "metadata": {},
   "outputs": [],
   "source": [
    "df['codcli'] = df['codcli'].astype(str)"
   ]
  },
  {
   "cell_type": "code",
   "execution_count": 203,
   "id": "ed866492",
   "metadata": {},
   "outputs": [],
   "source": [
    "df['codobj'] = df['codobj'].astype(int)"
   ]
  },
  {
   "cell_type": "code",
   "execution_count": 204,
   "id": "c1a364d4",
   "metadata": {},
   "outputs": [],
   "source": [
    "df['qte'] = df['qte'].astype(int)"
   ]
  },
  {
   "cell_type": "code",
   "execution_count": 205,
   "id": "3c678046",
   "metadata": {},
   "outputs": [
    {
     "data": {
      "application/vnd.microsoft.datawrangler.viewer.v0+json": {
       "columns": [
        {
         "name": "index",
         "rawType": "int64",
         "type": "integer"
        },
        {
         "name": "codcli",
         "rawType": "object",
         "type": "string"
        },
        {
         "name": "genrecli",
         "rawType": "object",
         "type": "string"
        },
        {
         "name": "nomcli",
         "rawType": "object",
         "type": "string"
        },
        {
         "name": "prenomcli",
         "rawType": "object",
         "type": "string"
        },
        {
         "name": "cpcli",
         "rawType": "object",
         "type": "string"
        },
        {
         "name": "villecli",
         "rawType": "object",
         "type": "string"
        },
        {
         "name": "codcde",
         "rawType": "object",
         "type": "string"
        },
        {
         "name": "datcde",
         "rawType": "object",
         "type": "string"
        },
        {
         "name": "timbrecli",
         "rawType": "float64",
         "type": "float"
        },
        {
         "name": "timbrecde",
         "rawType": "float64",
         "type": "float"
        },
        {
         "name": "Nbcolis",
         "rawType": "float64",
         "type": "float"
        },
        {
         "name": "cheqcli",
         "rawType": "float64",
         "type": "float"
        },
        {
         "name": "barchive",
         "rawType": "int64",
         "type": "integer"
        },
        {
         "name": "bstock",
         "rawType": "int64",
         "type": "integer"
        },
        {
         "name": "codobj",
         "rawType": "int64",
         "type": "integer"
        },
        {
         "name": "qte",
         "rawType": "int64",
         "type": "integer"
        },
        {
         "name": "Colis",
         "rawType": "float64",
         "type": "float"
        },
        {
         "name": "libobj",
         "rawType": "object",
         "type": "string"
        },
        {
         "name": "Tailleobj",
         "rawType": "object",
         "type": "string"
        },
        {
         "name": "Poidsobj",
         "rawType": "int64",
         "type": "integer"
        },
        {
         "name": "points",
         "rawType": "float64",
         "type": "float"
        },
        {
         "name": "indispobj",
         "rawType": "int64",
         "type": "integer"
        },
        {
         "name": "libcondit",
         "rawType": "object",
         "type": "string"
        },
        {
         "name": "prixcond",
         "rawType": "int64",
         "type": "integer"
        },
        {
         "name": "puobj",
         "rawType": "int64",
         "type": "integer"
        },
        {
         "name": "DEP",
         "rawType": "object",
         "type": "string"
        }
       ],
       "ref": "fa814528-2e9a-42e2-b8ba-2d991c1bcc6f",
       "rows": [
        [
         "0",
         "446",
         "Mme",
         "Chretien",
         "Daniel",
         "14540",
         "Bourguebus",
         "478",
         "2004-10-22",
         "5.0",
         "4.8",
         "1.0",
         "0.0",
         "1",
         "1",
         "38",
         "2",
         "1.0",
         "Polo",
         "XL",
         "230",
         "60.0",
         "0",
         "Carton Tete de menagere",
         "0",
         "0",
         "14"
        ],
        [
         "1",
         "446",
         "Mme",
         "Chretien",
         "Daniel",
         "14540",
         "Bourguebus",
         "478",
         "2004-10-22",
         "5.0",
         "4.8",
         "1.0",
         "0.0",
         "1",
         "1",
         "30",
         "2",
         "1.0",
         "T-shirt Blanc",
         "L",
         "170",
         "60.0",
         "0",
         "Carton Tete de menagere",
         "0",
         "0",
         "14"
        ],
        [
         "2",
         "446",
         "Mme",
         "Chretien",
         "Daniel",
         "14540",
         "Bourguebus",
         "478",
         "2004-10-22",
         "5.0",
         "4.8",
         "1.0",
         "0.0",
         "1",
         "1",
         "45",
         "1",
         "1.0",
         "Montre",
         "Homme",
         "30",
         "150.0",
         "0",
         "Carton Tete de menagere",
         "0",
         "0",
         "14"
        ],
        [
         "3",
         "17860",
         "M.",
         "Verardo",
         "Anthony",
         "35400",
         "Saint Malo",
         "21239",
         "2006-10-03",
         "0.0",
         "3.9",
         "1.0",
         "1.45",
         "1",
         "1",
         "31",
         "1",
         "1.0",
         "T-shirt Blanc",
         "XL",
         "180",
         "60.0",
         "0",
         "Distingo 500 g",
         "34",
         "0",
         "35"
        ],
        [
         "4",
         "1330",
         "Mme",
         "Robert",
         "Yvonne",
         "61000",
         "Alencon",
         "1386",
         "2004-11-23",
         "4.0",
         "6.5",
         "1.0",
         "0.0",
         "1",
         "1",
         "42",
         "3",
         "1.0",
         "Tete de menagere",
         "Confidence",
         "250",
         "100.0",
         "0",
         "Carton Tete de menagere",
         "0",
         "0",
         "61"
        ]
       ],
       "shape": {
        "columns": 26,
        "rows": 5
       }
      },
      "text/html": [
       "<div>\n",
       "<style scoped>\n",
       "    .dataframe tbody tr th:only-of-type {\n",
       "        vertical-align: middle;\n",
       "    }\n",
       "\n",
       "    .dataframe tbody tr th {\n",
       "        vertical-align: top;\n",
       "    }\n",
       "\n",
       "    .dataframe thead th {\n",
       "        text-align: right;\n",
       "    }\n",
       "</style>\n",
       "<table border=\"1\" class=\"dataframe\">\n",
       "  <thead>\n",
       "    <tr style=\"text-align: right;\">\n",
       "      <th></th>\n",
       "      <th>codcli</th>\n",
       "      <th>genrecli</th>\n",
       "      <th>nomcli</th>\n",
       "      <th>prenomcli</th>\n",
       "      <th>cpcli</th>\n",
       "      <th>villecli</th>\n",
       "      <th>codcde</th>\n",
       "      <th>datcde</th>\n",
       "      <th>timbrecli</th>\n",
       "      <th>timbrecde</th>\n",
       "      <th>...</th>\n",
       "      <th>Colis</th>\n",
       "      <th>libobj</th>\n",
       "      <th>Tailleobj</th>\n",
       "      <th>Poidsobj</th>\n",
       "      <th>points</th>\n",
       "      <th>indispobj</th>\n",
       "      <th>libcondit</th>\n",
       "      <th>prixcond</th>\n",
       "      <th>puobj</th>\n",
       "      <th>DEP</th>\n",
       "    </tr>\n",
       "  </thead>\n",
       "  <tbody>\n",
       "    <tr>\n",
       "      <th>0</th>\n",
       "      <td>446</td>\n",
       "      <td>Mme</td>\n",
       "      <td>Chretien</td>\n",
       "      <td>Daniel</td>\n",
       "      <td>14540</td>\n",
       "      <td>Bourguebus</td>\n",
       "      <td>478</td>\n",
       "      <td>2004-10-22</td>\n",
       "      <td>5.0</td>\n",
       "      <td>4.8</td>\n",
       "      <td>...</td>\n",
       "      <td>1.0</td>\n",
       "      <td>Polo</td>\n",
       "      <td>XL</td>\n",
       "      <td>230</td>\n",
       "      <td>60.0</td>\n",
       "      <td>0</td>\n",
       "      <td>Carton Tete de menagere</td>\n",
       "      <td>0</td>\n",
       "      <td>0</td>\n",
       "      <td>14</td>\n",
       "    </tr>\n",
       "    <tr>\n",
       "      <th>1</th>\n",
       "      <td>446</td>\n",
       "      <td>Mme</td>\n",
       "      <td>Chretien</td>\n",
       "      <td>Daniel</td>\n",
       "      <td>14540</td>\n",
       "      <td>Bourguebus</td>\n",
       "      <td>478</td>\n",
       "      <td>2004-10-22</td>\n",
       "      <td>5.0</td>\n",
       "      <td>4.8</td>\n",
       "      <td>...</td>\n",
       "      <td>1.0</td>\n",
       "      <td>T-shirt Blanc</td>\n",
       "      <td>L</td>\n",
       "      <td>170</td>\n",
       "      <td>60.0</td>\n",
       "      <td>0</td>\n",
       "      <td>Carton Tete de menagere</td>\n",
       "      <td>0</td>\n",
       "      <td>0</td>\n",
       "      <td>14</td>\n",
       "    </tr>\n",
       "    <tr>\n",
       "      <th>2</th>\n",
       "      <td>446</td>\n",
       "      <td>Mme</td>\n",
       "      <td>Chretien</td>\n",
       "      <td>Daniel</td>\n",
       "      <td>14540</td>\n",
       "      <td>Bourguebus</td>\n",
       "      <td>478</td>\n",
       "      <td>2004-10-22</td>\n",
       "      <td>5.0</td>\n",
       "      <td>4.8</td>\n",
       "      <td>...</td>\n",
       "      <td>1.0</td>\n",
       "      <td>Montre</td>\n",
       "      <td>Homme</td>\n",
       "      <td>30</td>\n",
       "      <td>150.0</td>\n",
       "      <td>0</td>\n",
       "      <td>Carton Tete de menagere</td>\n",
       "      <td>0</td>\n",
       "      <td>0</td>\n",
       "      <td>14</td>\n",
       "    </tr>\n",
       "    <tr>\n",
       "      <th>3</th>\n",
       "      <td>17860</td>\n",
       "      <td>M.</td>\n",
       "      <td>Verardo</td>\n",
       "      <td>Anthony</td>\n",
       "      <td>35400</td>\n",
       "      <td>Saint Malo</td>\n",
       "      <td>21239</td>\n",
       "      <td>2006-10-03</td>\n",
       "      <td>0.0</td>\n",
       "      <td>3.9</td>\n",
       "      <td>...</td>\n",
       "      <td>1.0</td>\n",
       "      <td>T-shirt Blanc</td>\n",
       "      <td>XL</td>\n",
       "      <td>180</td>\n",
       "      <td>60.0</td>\n",
       "      <td>0</td>\n",
       "      <td>Distingo 500 g</td>\n",
       "      <td>34</td>\n",
       "      <td>0</td>\n",
       "      <td>35</td>\n",
       "    </tr>\n",
       "    <tr>\n",
       "      <th>4</th>\n",
       "      <td>1330</td>\n",
       "      <td>Mme</td>\n",
       "      <td>Robert</td>\n",
       "      <td>Yvonne</td>\n",
       "      <td>61000</td>\n",
       "      <td>Alencon</td>\n",
       "      <td>1386</td>\n",
       "      <td>2004-11-23</td>\n",
       "      <td>4.0</td>\n",
       "      <td>6.5</td>\n",
       "      <td>...</td>\n",
       "      <td>1.0</td>\n",
       "      <td>Tete de menagere</td>\n",
       "      <td>Confidence</td>\n",
       "      <td>250</td>\n",
       "      <td>100.0</td>\n",
       "      <td>0</td>\n",
       "      <td>Carton Tete de menagere</td>\n",
       "      <td>0</td>\n",
       "      <td>0</td>\n",
       "      <td>61</td>\n",
       "    </tr>\n",
       "  </tbody>\n",
       "</table>\n",
       "<p>5 rows × 26 columns</p>\n",
       "</div>"
      ],
      "text/plain": [
       "  codcli genrecli    nomcli prenomcli  cpcli    villecli codcde      datcde  \\\n",
       "0    446      Mme  Chretien    Daniel  14540  Bourguebus    478  2004-10-22   \n",
       "1    446      Mme  Chretien    Daniel  14540  Bourguebus    478  2004-10-22   \n",
       "2    446      Mme  Chretien    Daniel  14540  Bourguebus    478  2004-10-22   \n",
       "3  17860       M.   Verardo   Anthony  35400  Saint Malo  21239  2006-10-03   \n",
       "4   1330      Mme    Robert    Yvonne  61000     Alencon   1386  2004-11-23   \n",
       "\n",
       "   timbrecli  timbrecde  ...  Colis            libobj   Tailleobj  Poidsobj  \\\n",
       "0        5.0        4.8  ...    1.0              Polo          XL       230   \n",
       "1        5.0        4.8  ...    1.0     T-shirt Blanc           L       170   \n",
       "2        5.0        4.8  ...    1.0            Montre       Homme        30   \n",
       "3        0.0        3.9  ...    1.0     T-shirt Blanc          XL       180   \n",
       "4        4.0        6.5  ...    1.0  Tete de menagere  Confidence       250   \n",
       "\n",
       "   points  indispobj                libcondit prixcond puobj  DEP  \n",
       "0    60.0          0  Carton Tete de menagere        0     0   14  \n",
       "1    60.0          0  Carton Tete de menagere        0     0   14  \n",
       "2   150.0          0  Carton Tete de menagere        0     0   14  \n",
       "3    60.0          0           Distingo 500 g       34     0   35  \n",
       "4   100.0          0  Carton Tete de menagere        0     0   61  \n",
       "\n",
       "[5 rows x 26 columns]"
      ]
     },
     "execution_count": 205,
     "metadata": {},
     "output_type": "execute_result"
    }
   ],
   "source": [
    "df.head()"
   ]
  },
  {
   "cell_type": "code",
   "execution_count": 206,
   "id": "9653619c",
   "metadata": {},
   "outputs": [
    {
     "data": {
      "application/vnd.microsoft.datawrangler.viewer.v0+json": {
       "columns": [
        {
         "name": "index",
         "rawType": "object",
         "type": "string"
        },
        {
         "name": "0",
         "rawType": "object",
         "type": "unknown"
        }
       ],
       "ref": "3c65f46a-71f0-4039-8ef8-051083a6cff8",
       "rows": [
        [
         "codcli",
         "object"
        ],
        [
         "genrecli",
         "object"
        ],
        [
         "nomcli",
         "object"
        ],
        [
         "prenomcli",
         "object"
        ],
        [
         "cpcli",
         "object"
        ],
        [
         "villecli",
         "object"
        ],
        [
         "codcde",
         "object"
        ],
        [
         "datcde",
         "object"
        ],
        [
         "timbrecli",
         "float64"
        ],
        [
         "timbrecde",
         "float64"
        ],
        [
         "Nbcolis",
         "float64"
        ],
        [
         "cheqcli",
         "float64"
        ],
        [
         "barchive",
         "int64"
        ],
        [
         "bstock",
         "int64"
        ],
        [
         "codobj",
         "int64"
        ],
        [
         "qte",
         "int64"
        ],
        [
         "Colis",
         "float64"
        ],
        [
         "libobj",
         "object"
        ],
        [
         "Tailleobj",
         "object"
        ],
        [
         "Poidsobj",
         "int64"
        ],
        [
         "points",
         "float64"
        ],
        [
         "indispobj",
         "int64"
        ],
        [
         "libcondit",
         "object"
        ],
        [
         "prixcond",
         "int64"
        ],
        [
         "puobj",
         "int64"
        ],
        [
         "DEP",
         "object"
        ]
       ],
       "shape": {
        "columns": 1,
        "rows": 26
       }
      },
      "text/plain": [
       "codcli        object\n",
       "genrecli      object\n",
       "nomcli        object\n",
       "prenomcli     object\n",
       "cpcli         object\n",
       "villecli      object\n",
       "codcde        object\n",
       "datcde        object\n",
       "timbrecli    float64\n",
       "timbrecde    float64\n",
       "Nbcolis      float64\n",
       "cheqcli      float64\n",
       "barchive       int64\n",
       "bstock         int64\n",
       "codobj         int64\n",
       "qte            int64\n",
       "Colis        float64\n",
       "libobj        object\n",
       "Tailleobj     object\n",
       "Poidsobj       int64\n",
       "points       float64\n",
       "indispobj      int64\n",
       "libcondit     object\n",
       "prixcond       int64\n",
       "puobj          int64\n",
       "DEP           object\n",
       "dtype: object"
      ]
     },
     "execution_count": 206,
     "metadata": {},
     "output_type": "execute_result"
    }
   ],
   "source": [
    "df.dtypes"
   ]
  },
  {
   "cell_type": "markdown",
   "id": "66c87c09",
   "metadata": {},
   "source": [
    "#### Lib Objets"
   ]
  },
  {
   "cell_type": "markdown",
   "id": "2219c7d6",
   "metadata": {},
   "source": [
    "Points Bonus"
   ]
  },
  {
   "cell_type": "code",
   "execution_count": 207,
   "id": "163dba0b",
   "metadata": {},
   "outputs": [
    {
     "name": "stderr",
     "output_type": "stream",
     "text": [
      "C:\\Users\\f.dumont\\AppData\\Local\\Temp\\ipykernel_20832\\1750927717.py:2: SettingWithCopyWarning: \n",
      "A value is trying to be set on a copy of a slice from a DataFrame.\n",
      "Try using .loc[row_indexer,col_indexer] = value instead\n",
      "\n",
      "See the caveats in the documentation: https://pandas.pydata.org/pandas-docs/stable/user_guide/indexing.html#returning-a-view-versus-a-copy\n",
      "  lignes_points_bonus['raison'] = 'Points bonus'\n"
     ]
    }
   ],
   "source": [
    "lignes_points_bonus = df[df['libobj'] == 'Points Bonus Fidelite']\n",
    "lignes_points_bonus['raison'] = 'Points bonus'\n",
    "df_supprimé = pd.concat([df_supprimé, lignes_points_bonus])"
   ]
  },
  {
   "cell_type": "code",
   "execution_count": 208,
   "id": "2d14e7e3",
   "metadata": {},
   "outputs": [
    {
     "data": {
      "text/plain": [
       "10538"
      ]
     },
     "execution_count": 208,
     "metadata": {},
     "output_type": "execute_result"
    }
   ],
   "source": [
    "len(lignes_points_bonus)"
   ]
  },
  {
   "cell_type": "code",
   "execution_count": 209,
   "id": "5addc4a6",
   "metadata": {},
   "outputs": [],
   "source": [
    "df = df[df['libobj'] != 'Points Bonus Fidelite']"
   ]
  },
  {
   "cell_type": "markdown",
   "id": "d394f9cd",
   "metadata": {},
   "source": [
    "Carte publicitaire"
   ]
  },
  {
   "cell_type": "code",
   "execution_count": 210,
   "id": "e80d53c2",
   "metadata": {},
   "outputs": [
    {
     "name": "stderr",
     "output_type": "stream",
     "text": [
      "C:\\Users\\f.dumont\\AppData\\Local\\Temp\\ipykernel_20832\\471831667.py:2: SettingWithCopyWarning: \n",
      "A value is trying to be set on a copy of a slice from a DataFrame.\n",
      "Try using .loc[row_indexer,col_indexer] = value instead\n",
      "\n",
      "See the caveats in the documentation: https://pandas.pydata.org/pandas-docs/stable/user_guide/indexing.html#returning-a-view-versus-a-copy\n",
      "  lignes_carte_pub['raison'] = 'Carte publicitaire'\n"
     ]
    },
    {
     "data": {
      "text/plain": [
       "6683"
      ]
     },
     "execution_count": 210,
     "metadata": {},
     "output_type": "execute_result"
    }
   ],
   "source": [
    "lignes_carte_pub = df[df['libobj'] == 'Carte publicitaire']\n",
    "lignes_carte_pub['raison'] = 'Carte publicitaire'\n",
    "df_supprimé = pd.concat([df_supprimé, lignes_carte_pub])\n",
    "len(lignes_carte_pub)"
   ]
  },
  {
   "cell_type": "code",
   "execution_count": 211,
   "id": "4f56e197",
   "metadata": {},
   "outputs": [
    {
     "data": {
      "text/plain": [
       "6683"
      ]
     },
     "execution_count": 211,
     "metadata": {},
     "output_type": "execute_result"
    }
   ],
   "source": [
    "len(lignes_carte_pub)"
   ]
  },
  {
   "cell_type": "code",
   "execution_count": 212,
   "id": "6fe9281f",
   "metadata": {},
   "outputs": [],
   "source": [
    "df = df[df['libobj'] != 'Carte publicitaire']"
   ]
  },
  {
   "cell_type": "markdown",
   "id": "3ba5ca8f",
   "metadata": {},
   "source": [
    "Offert"
   ]
  },
  {
   "cell_type": "code",
   "execution_count": 213,
   "id": "0f838ed3",
   "metadata": {},
   "outputs": [
    {
     "name": "stderr",
     "output_type": "stream",
     "text": [
      "C:\\Users\\f.dumont\\AppData\\Local\\Temp\\ipykernel_20832\\2688955022.py:3: SettingWithCopyWarning: \n",
      "A value is trying to be set on a copy of a slice from a DataFrame.\n",
      "Try using .loc[row_indexer,col_indexer] = value instead\n",
      "\n",
      "See the caveats in the documentation: https://pandas.pydata.org/pandas-docs/stable/user_guide/indexing.html#returning-a-view-versus-a-copy\n",
      "  lignes_offertes['raison'] = 'offert'\n"
     ]
    },
    {
     "data": {
      "text/plain": [
       "7"
      ]
     },
     "execution_count": 213,
     "metadata": {},
     "output_type": "execute_result"
    }
   ],
   "source": [
    "lignes_offertes = df[df['libobj'].str.lower().str.contains('offert', na=False)]\n",
    "\n",
    "lignes_offertes['raison'] = 'offert'\n",
    "df_supprimé = pd.concat([df_supprimé, lignes_offertes])\n",
    "len(lignes_offertes)\n"
   ]
  },
  {
   "cell_type": "code",
   "execution_count": 214,
   "id": "259e15eb",
   "metadata": {},
   "outputs": [],
   "source": [
    "df = df[~df['libobj'].str.lower().str.contains('offert', na=False)]"
   ]
  },
  {
   "cell_type": "markdown",
   "id": "2c64fd29",
   "metadata": {},
   "source": [
    "Flyer"
   ]
  },
  {
   "cell_type": "code",
   "execution_count": 215,
   "id": "61c61abf",
   "metadata": {},
   "outputs": [
    {
     "name": "stderr",
     "output_type": "stream",
     "text": [
      "C:\\Users\\f.dumont\\AppData\\Local\\Temp\\ipykernel_20832\\3370257165.py:3: SettingWithCopyWarning: \n",
      "A value is trying to be set on a copy of a slice from a DataFrame.\n",
      "Try using .loc[row_indexer,col_indexer] = value instead\n",
      "\n",
      "See the caveats in the documentation: https://pandas.pydata.org/pandas-docs/stable/user_guide/indexing.html#returning-a-view-versus-a-copy\n",
      "  lignes_flyer['raison'] = 'flyer'\n"
     ]
    },
    {
     "data": {
      "text/plain": [
       "24037"
      ]
     },
     "execution_count": 215,
     "metadata": {},
     "output_type": "execute_result"
    }
   ],
   "source": [
    "lignes_flyer = df[df['libobj'].str.lower().str.contains('flyer', na=False)]\n",
    "\n",
    "lignes_flyer['raison'] = 'flyer'\n",
    "df_supprimé = pd.concat([df_supprimé, lignes_flyer])\n",
    "len(lignes_flyer)"
   ]
  },
  {
   "cell_type": "code",
   "execution_count": 216,
   "id": "f4a423ff",
   "metadata": {},
   "outputs": [],
   "source": [
    "df = df[~df['libobj'].str.lower().str.contains('flyer', na=False)]"
   ]
  },
  {
   "cell_type": "markdown",
   "id": "6ed83011",
   "metadata": {},
   "source": [
    "Quantité =0"
   ]
  },
  {
   "cell_type": "code",
   "execution_count": 217,
   "id": "197879cb",
   "metadata": {},
   "outputs": [
    {
     "data": {
      "application/vnd.microsoft.datawrangler.viewer.v0+json": {
       "columns": [
        {
         "name": "index",
         "rawType": "int64",
         "type": "integer"
        },
        {
         "name": "codcli",
         "rawType": "object",
         "type": "string"
        },
        {
         "name": "genrecli",
         "rawType": "object",
         "type": "string"
        },
        {
         "name": "nomcli",
         "rawType": "object",
         "type": "string"
        },
        {
         "name": "prenomcli",
         "rawType": "object",
         "type": "string"
        },
        {
         "name": "cpcli",
         "rawType": "object",
         "type": "string"
        },
        {
         "name": "villecli",
         "rawType": "object",
         "type": "string"
        },
        {
         "name": "codcde",
         "rawType": "object",
         "type": "string"
        },
        {
         "name": "datcde",
         "rawType": "object",
         "type": "string"
        },
        {
         "name": "timbrecli",
         "rawType": "float64",
         "type": "float"
        },
        {
         "name": "timbrecde",
         "rawType": "float64",
         "type": "float"
        },
        {
         "name": "Nbcolis",
         "rawType": "float64",
         "type": "float"
        },
        {
         "name": "cheqcli",
         "rawType": "float64",
         "type": "float"
        },
        {
         "name": "barchive",
         "rawType": "int64",
         "type": "integer"
        },
        {
         "name": "bstock",
         "rawType": "int64",
         "type": "integer"
        },
        {
         "name": "codobj",
         "rawType": "int64",
         "type": "integer"
        },
        {
         "name": "qte",
         "rawType": "int64",
         "type": "integer"
        },
        {
         "name": "Colis",
         "rawType": "float64",
         "type": "float"
        },
        {
         "name": "libobj",
         "rawType": "object",
         "type": "string"
        },
        {
         "name": "Tailleobj",
         "rawType": "object",
         "type": "string"
        },
        {
         "name": "Poidsobj",
         "rawType": "int64",
         "type": "integer"
        },
        {
         "name": "points",
         "rawType": "float64",
         "type": "float"
        },
        {
         "name": "indispobj",
         "rawType": "int64",
         "type": "integer"
        },
        {
         "name": "libcondit",
         "rawType": "object",
         "type": "string"
        },
        {
         "name": "prixcond",
         "rawType": "int64",
         "type": "integer"
        },
        {
         "name": "puobj",
         "rawType": "int64",
         "type": "integer"
        },
        {
         "name": "DEP",
         "rawType": "object",
         "type": "string"
        }
       ],
       "ref": "edbb17dd-ea19-4d62-8db7-a4009111874d",
       "rows": [
        [
         "95217",
         "23279",
         "Mme",
         "Cadalen",
         "Chantal",
         "61100",
         "Aubusson",
         "70565",
         "2016-01-05",
         "0.0",
         "5.9",
         "1.0",
         "8.5",
         "1",
         "1",
         "42",
         "0",
         "1.0",
         "Tete de menagere",
         "Confidence",
         "250",
         "100.0",
         "0",
         "Carton Tete de menagere",
         "0",
         "0",
         "61"
        ]
       ],
       "shape": {
        "columns": 26,
        "rows": 1
       }
      },
      "text/html": [
       "<div>\n",
       "<style scoped>\n",
       "    .dataframe tbody tr th:only-of-type {\n",
       "        vertical-align: middle;\n",
       "    }\n",
       "\n",
       "    .dataframe tbody tr th {\n",
       "        vertical-align: top;\n",
       "    }\n",
       "\n",
       "    .dataframe thead th {\n",
       "        text-align: right;\n",
       "    }\n",
       "</style>\n",
       "<table border=\"1\" class=\"dataframe\">\n",
       "  <thead>\n",
       "    <tr style=\"text-align: right;\">\n",
       "      <th></th>\n",
       "      <th>codcli</th>\n",
       "      <th>genrecli</th>\n",
       "      <th>nomcli</th>\n",
       "      <th>prenomcli</th>\n",
       "      <th>cpcli</th>\n",
       "      <th>villecli</th>\n",
       "      <th>codcde</th>\n",
       "      <th>datcde</th>\n",
       "      <th>timbrecli</th>\n",
       "      <th>timbrecde</th>\n",
       "      <th>...</th>\n",
       "      <th>Colis</th>\n",
       "      <th>libobj</th>\n",
       "      <th>Tailleobj</th>\n",
       "      <th>Poidsobj</th>\n",
       "      <th>points</th>\n",
       "      <th>indispobj</th>\n",
       "      <th>libcondit</th>\n",
       "      <th>prixcond</th>\n",
       "      <th>puobj</th>\n",
       "      <th>DEP</th>\n",
       "    </tr>\n",
       "  </thead>\n",
       "  <tbody>\n",
       "    <tr>\n",
       "      <th>95217</th>\n",
       "      <td>23279</td>\n",
       "      <td>Mme</td>\n",
       "      <td>Cadalen</td>\n",
       "      <td>Chantal</td>\n",
       "      <td>61100</td>\n",
       "      <td>Aubusson</td>\n",
       "      <td>70565</td>\n",
       "      <td>2016-01-05</td>\n",
       "      <td>0.0</td>\n",
       "      <td>5.9</td>\n",
       "      <td>...</td>\n",
       "      <td>1.0</td>\n",
       "      <td>Tete de menagere</td>\n",
       "      <td>Confidence</td>\n",
       "      <td>250</td>\n",
       "      <td>100.0</td>\n",
       "      <td>0</td>\n",
       "      <td>Carton Tete de menagere</td>\n",
       "      <td>0</td>\n",
       "      <td>0</td>\n",
       "      <td>61</td>\n",
       "    </tr>\n",
       "  </tbody>\n",
       "</table>\n",
       "<p>1 rows × 26 columns</p>\n",
       "</div>"
      ],
      "text/plain": [
       "      codcli genrecli   nomcli prenomcli  cpcli  villecli codcde      datcde  \\\n",
       "95217  23279      Mme  Cadalen   Chantal  61100  Aubusson  70565  2016-01-05   \n",
       "\n",
       "       timbrecli  timbrecde  ...  Colis            libobj   Tailleobj  \\\n",
       "95217        0.0        5.9  ...    1.0  Tete de menagere  Confidence   \n",
       "\n",
       "       Poidsobj  points  indispobj                libcondit prixcond puobj  \\\n",
       "95217       250   100.0          0  Carton Tete de menagere        0     0   \n",
       "\n",
       "       DEP  \n",
       "95217   61  \n",
       "\n",
       "[1 rows x 26 columns]"
      ]
     },
     "execution_count": 217,
     "metadata": {},
     "output_type": "execute_result"
    }
   ],
   "source": [
    "df[(df['qte'] == 0)]"
   ]
  },
  {
   "cell_type": "code",
   "execution_count": 218,
   "id": "40ea7d8e",
   "metadata": {},
   "outputs": [
    {
     "name": "stderr",
     "output_type": "stream",
     "text": [
      "C:\\Users\\f.dumont\\AppData\\Local\\Temp\\ipykernel_20832\\3734015793.py:2: SettingWithCopyWarning: \n",
      "A value is trying to be set on a copy of a slice from a DataFrame.\n",
      "Try using .loc[row_indexer,col_indexer] = value instead\n",
      "\n",
      "See the caveats in the documentation: https://pandas.pydata.org/pandas-docs/stable/user_guide/indexing.html#returning-a-view-versus-a-copy\n",
      "  df_zero['raison'] = 'qte = 0'\n"
     ]
    }
   ],
   "source": [
    "df_zero = df[(df['qte'] == 0)]\n",
    "df_zero['raison'] = 'qte = 0'\n",
    "df_supprimé = pd.concat([df_supprimé, df_zero])\n"
   ]
  },
  {
   "cell_type": "code",
   "execution_count": 219,
   "id": "84429493",
   "metadata": {},
   "outputs": [
    {
     "data": {
      "text/plain": [
       "1"
      ]
     },
     "execution_count": 219,
     "metadata": {},
     "output_type": "execute_result"
    }
   ],
   "source": [
    "len(df_zero)"
   ]
  },
  {
   "cell_type": "code",
   "execution_count": 220,
   "id": "e748d471",
   "metadata": {},
   "outputs": [],
   "source": [
    "df = df[(df['qte'] != 0)]"
   ]
  },
  {
   "cell_type": "markdown",
   "id": "68fc8f9b",
   "metadata": {},
   "source": [
    "#### Doublons"
   ]
  },
  {
   "cell_type": "code",
   "execution_count": 221,
   "id": "989f2e22",
   "metadata": {},
   "outputs": [],
   "source": [
    "masque_doublons = df.duplicated()\n",
    "df_doublons = df[masque_doublons].copy()\n",
    "df_doublons.loc[:, 'raison'] = 'Doublon'"
   ]
  },
  {
   "cell_type": "code",
   "execution_count": 222,
   "id": "89cfd596",
   "metadata": {},
   "outputs": [
    {
     "data": {
      "text/plain": [
       "11"
      ]
     },
     "execution_count": 222,
     "metadata": {},
     "output_type": "execute_result"
    }
   ],
   "source": [
    "len(df_doublons)"
   ]
  },
  {
   "cell_type": "code",
   "execution_count": 223,
   "id": "4aacca05",
   "metadata": {},
   "outputs": [],
   "source": [
    "# ajouter ces lignes au df_supprimé\n",
    "df_supprimé = pd.concat([df_supprimé, df_doublons])"
   ]
  },
  {
   "cell_type": "code",
   "execution_count": 224,
   "id": "396680bd",
   "metadata": {},
   "outputs": [],
   "source": [
    "df = df.drop_duplicates()"
   ]
  },
  {
   "cell_type": "markdown",
   "id": "b7ddedda",
   "metadata": {},
   "source": [
    "#### Vérifications"
   ]
  },
  {
   "cell_type": "code",
   "execution_count": 233,
   "id": "3b9cb795",
   "metadata": {},
   "outputs": [
    {
     "data": {
      "text/plain": [
       "True"
      ]
     },
     "execution_count": 233,
     "metadata": {},
     "output_type": "execute_result"
    }
   ],
   "source": [
    "len(df) + len(df_supprimé) == 135277 #(taille du jeu de donnée)"
   ]
  },
  {
   "cell_type": "markdown",
   "id": "a224ae69",
   "metadata": {},
   "source": [
    "#### Mise en forme"
   ]
  },
  {
   "cell_type": "code",
   "execution_count": 228,
   "id": "9c395df8",
   "metadata": {},
   "outputs": [],
   "source": [
    "# changer l'ordre des colonnes\n",
    "df=df[['codcde','datcde','codobj', 'libobj','qte', 'timbrecli',\n",
    "       'timbrecde','codcli','nomcli','prenomcli','cpcli','villecli','DEP']]"
   ]
  },
  {
   "cell_type": "code",
   "execution_count": 229,
   "id": "ed2b44bb",
   "metadata": {},
   "outputs": [],
   "source": [
    "# Trier par numéro de commande\n",
    "df = df.sort_values('codcde').reset_index(drop=True)"
   ]
  },
  {
   "cell_type": "code",
   "execution_count": 230,
   "id": "7292788e",
   "metadata": {},
   "outputs": [],
   "source": [
    "df['timbrecde']=df['timbrecde'].astype(float)"
   ]
  },
  {
   "cell_type": "code",
   "execution_count": 231,
   "id": "0c47a806",
   "metadata": {},
   "outputs": [],
   "source": [
    "# Enregistrement du csv\n",
    "df.to_csv('ETL/DW.csv', index=False)"
   ]
  },
  {
   "cell_type": "code",
   "execution_count": 232,
   "id": "3f80a7c6",
   "metadata": {},
   "outputs": [],
   "source": [
    "df_supprimé.to_csv('ETL/DW_lines_deleted.csv', index=False)"
   ]
  }
 ],
 "metadata": {
  "kernelspec": {
   "display_name": ".venv",
   "language": "python",
   "name": "python3"
  },
  "language_info": {
   "codemirror_mode": {
    "name": "ipython",
    "version": 3
   },
   "file_extension": ".py",
   "mimetype": "text/x-python",
   "name": "python",
   "nbconvert_exporter": "python",
   "pygments_lexer": "ipython3",
   "version": "3.12.6"
  }
 },
 "nbformat": 4,
 "nbformat_minor": 5
}
