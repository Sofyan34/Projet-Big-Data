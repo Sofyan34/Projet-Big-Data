{
 "cells": [
  {
   "cell_type": "markdown",
   "id": "3673b207",
   "metadata": {},
   "source": [
    "#### Imports & environnement"
   ]
  },
  {
   "cell_type": "code",
   "execution_count": 112,
   "id": "c4100c0a",
   "metadata": {},
   "outputs": [],
   "source": [
    "# from dotenv import load_dotenv\n",
    "import pandas as pd\n",
    "import os"
   ]
  },
  {
   "cell_type": "markdown",
   "id": "e360913d",
   "metadata": {},
   "source": [
    "#### Fonctions"
   ]
  },
  {
   "cell_type": "code",
   "execution_count": 113,
   "id": "7849874b",
   "metadata": {},
   "outputs": [],
   "source": [
    "# netoyage texte\n",
    "import re\n",
    "\n",
    "def nettoyer_caracteres(texte):\n",
    "     return re.sub(r\"[^\\wàâäéèêëîïôöùûüÿçæœÀÂÄÉÈÊËÎÏÔÖÙÛÜŸÇÆŒ' -]\", \"\", str(texte))"
   ]
  },
  {
   "cell_type": "code",
   "execution_count": 114,
   "id": "65b3167f",
   "metadata": {},
   "outputs": [],
   "source": [
    "def convertir_int(serie, valeur_remplacement=99000):\n",
    "    def convertir_valeur(valeur):\n",
    "        try:\n",
    "            # Tente de convertir la valeur en entier\n",
    "            return int(valeur)\n",
    "        except ValueError:\n",
    "            # En cas d'échec, retourne la valeur de remplacement\n",
    "            return valeur_remplacement\n",
    "\n",
    "    # Applique la fonction de conversion à chaque élément de la série\n",
    "    return serie.apply(convertir_valeur)"
   ]
  },
  {
   "cell_type": "markdown",
   "id": "74ad359b",
   "metadata": {},
   "source": [
    "#### Read file"
   ]
  },
  {
   "cell_type": "code",
   "execution_count": 115,
   "id": "fd8e8faa",
   "metadata": {},
   "outputs": [],
   "source": [
    "# Création du Dataframe\n",
    "df = pd.read_csv('datas/dataw_fro03.csv').reset_index(drop=True)"
   ]
  },
  {
   "cell_type": "code",
   "execution_count": 116,
   "id": "0056e032",
   "metadata": {},
   "outputs": [
    {
     "data": {
      "text/plain": [
       "(135277, 25)"
      ]
     },
     "execution_count": 116,
     "metadata": {},
     "output_type": "execute_result"
    }
   ],
   "source": [
    "# Vérification de la taille\n",
    "df.shape"
   ]
  },
  {
   "cell_type": "code",
   "execution_count": 117,
   "id": "805c7829",
   "metadata": {},
   "outputs": [
    {
     "data": {
      "application/vnd.microsoft.datawrangler.viewer.v0+json": {
       "columns": [
        {
         "name": "index",
         "rawType": "int64",
         "type": "integer"
        },
        {
         "name": "codcli",
         "rawType": "int64",
         "type": "integer"
        },
        {
         "name": "genrecli",
         "rawType": "object",
         "type": "string"
        },
        {
         "name": "nomcli",
         "rawType": "object",
         "type": "string"
        },
        {
         "name": "prenomcli",
         "rawType": "object",
         "type": "string"
        },
        {
         "name": "cpcli",
         "rawType": "int64",
         "type": "integer"
        },
        {
         "name": "villecli",
         "rawType": "object",
         "type": "string"
        },
        {
         "name": "codcde",
         "rawType": "int64",
         "type": "integer"
        },
        {
         "name": "datcde",
         "rawType": "object",
         "type": "string"
        },
        {
         "name": "timbrecli",
         "rawType": "float64",
         "type": "float"
        },
        {
         "name": "timbrecde",
         "rawType": "float64",
         "type": "float"
        },
        {
         "name": "Nbcolis",
         "rawType": "float64",
         "type": "float"
        },
        {
         "name": "cheqcli",
         "rawType": "float64",
         "type": "float"
        },
        {
         "name": "barchive",
         "rawType": "int64",
         "type": "integer"
        },
        {
         "name": "bstock",
         "rawType": "int64",
         "type": "integer"
        },
        {
         "name": "codobj",
         "rawType": "int64",
         "type": "integer"
        },
        {
         "name": "qte",
         "rawType": "float64",
         "type": "float"
        },
        {
         "name": "Colis",
         "rawType": "float64",
         "type": "float"
        },
        {
         "name": "libobj",
         "rawType": "object",
         "type": "string"
        },
        {
         "name": "Tailleobj",
         "rawType": "object",
         "type": "string"
        },
        {
         "name": "Poidsobj",
         "rawType": "int64",
         "type": "integer"
        },
        {
         "name": "points",
         "rawType": "float64",
         "type": "float"
        },
        {
         "name": "indispobj",
         "rawType": "int64",
         "type": "integer"
        },
        {
         "name": "libcondit",
         "rawType": "object",
         "type": "string"
        },
        {
         "name": "prixcond",
         "rawType": "int64",
         "type": "integer"
        },
        {
         "name": "puobj",
         "rawType": "int64",
         "type": "integer"
        }
       ],
       "ref": "a279ecf0-b1bf-4d65-b680-382089e99684",
       "rows": [
        [
         "0",
         "446",
         "Mme",
         "CHRETIEN",
         "Daniel",
         "14540",
         "BOURGUEBUS",
         "478",
         "2004-10-22 00:00:00",
         "5.0",
         "4.8",
         "1.0",
         null,
         "1",
         "1",
         "38",
         "2.0",
         "1.0",
         "Polo",
         "XL",
         "230",
         "60.0",
         "0",
         "Carton Tete de menagere",
         "0",
         "0"
        ],
        [
         "1",
         "446",
         "Mme",
         "CHRETIEN",
         "Daniel",
         "14540",
         "BOURGUEBUS",
         "478",
         "2004-10-22 00:00:00",
         "5.0",
         "4.8",
         "1.0",
         null,
         "1",
         "1",
         "30",
         "2.0",
         "1.0",
         "T-shirt Blanc",
         "L",
         "170",
         "60.0",
         "0",
         "Carton Tete de menagere",
         "0",
         "0"
        ],
        [
         "2",
         "446",
         "Mme",
         "CHRETIEN",
         "Daniel",
         "14540",
         "BOURGUEBUS",
         "478",
         "2004-10-22 00:00:00",
         "5.0",
         "4.8",
         "1.0",
         null,
         "1",
         "1",
         "45",
         "1.0",
         "1.0",
         "Montre",
         "Homme",
         "30",
         "150.0",
         "0",
         "Carton Tete de menagere",
         "0",
         "0"
        ],
        [
         "3",
         "17860",
         "M.",
         "VERARDO",
         "Anthony",
         "35400",
         "SAINT MALO",
         "21239",
         "2006-10-03 00:00:00",
         "0.0",
         "3.9",
         "1.0",
         "1.45",
         "1",
         "1",
         "31",
         "1.0",
         "1.0",
         "T-shirt Blanc",
         "XL",
         "180",
         "60.0",
         "0",
         "Distingo 500 g",
         "34",
         "0"
        ],
        [
         "4",
         "1330",
         "Mme",
         "ROBERT",
         "Yvonne",
         "61000",
         "ALENCON",
         "1386",
         "2004-11-23 00:00:00",
         "4.0",
         "6.5",
         "1.0",
         null,
         "1",
         "1",
         "42",
         "3.0",
         "1.0",
         "Tete de menagere",
         "Confidence",
         "250",
         "100.0",
         "0",
         "Carton Tete de menagere",
         "0",
         "0"
        ]
       ],
       "shape": {
        "columns": 25,
        "rows": 5
       }
      },
      "text/html": [
       "<div>\n",
       "<style scoped>\n",
       "    .dataframe tbody tr th:only-of-type {\n",
       "        vertical-align: middle;\n",
       "    }\n",
       "\n",
       "    .dataframe tbody tr th {\n",
       "        vertical-align: top;\n",
       "    }\n",
       "\n",
       "    .dataframe thead th {\n",
       "        text-align: right;\n",
       "    }\n",
       "</style>\n",
       "<table border=\"1\" class=\"dataframe\">\n",
       "  <thead>\n",
       "    <tr style=\"text-align: right;\">\n",
       "      <th></th>\n",
       "      <th>codcli</th>\n",
       "      <th>genrecli</th>\n",
       "      <th>nomcli</th>\n",
       "      <th>prenomcli</th>\n",
       "      <th>cpcli</th>\n",
       "      <th>villecli</th>\n",
       "      <th>codcde</th>\n",
       "      <th>datcde</th>\n",
       "      <th>timbrecli</th>\n",
       "      <th>timbrecde</th>\n",
       "      <th>...</th>\n",
       "      <th>qte</th>\n",
       "      <th>Colis</th>\n",
       "      <th>libobj</th>\n",
       "      <th>Tailleobj</th>\n",
       "      <th>Poidsobj</th>\n",
       "      <th>points</th>\n",
       "      <th>indispobj</th>\n",
       "      <th>libcondit</th>\n",
       "      <th>prixcond</th>\n",
       "      <th>puobj</th>\n",
       "    </tr>\n",
       "  </thead>\n",
       "  <tbody>\n",
       "    <tr>\n",
       "      <th>0</th>\n",
       "      <td>446</td>\n",
       "      <td>Mme</td>\n",
       "      <td>CHRETIEN</td>\n",
       "      <td>Daniel</td>\n",
       "      <td>14540</td>\n",
       "      <td>BOURGUEBUS</td>\n",
       "      <td>478</td>\n",
       "      <td>2004-10-22 00:00:00</td>\n",
       "      <td>5.0</td>\n",
       "      <td>4.8</td>\n",
       "      <td>...</td>\n",
       "      <td>2.0</td>\n",
       "      <td>1.0</td>\n",
       "      <td>Polo</td>\n",
       "      <td>XL</td>\n",
       "      <td>230</td>\n",
       "      <td>60.0</td>\n",
       "      <td>0</td>\n",
       "      <td>Carton Tete de menagere</td>\n",
       "      <td>0</td>\n",
       "      <td>0</td>\n",
       "    </tr>\n",
       "    <tr>\n",
       "      <th>1</th>\n",
       "      <td>446</td>\n",
       "      <td>Mme</td>\n",
       "      <td>CHRETIEN</td>\n",
       "      <td>Daniel</td>\n",
       "      <td>14540</td>\n",
       "      <td>BOURGUEBUS</td>\n",
       "      <td>478</td>\n",
       "      <td>2004-10-22 00:00:00</td>\n",
       "      <td>5.0</td>\n",
       "      <td>4.8</td>\n",
       "      <td>...</td>\n",
       "      <td>2.0</td>\n",
       "      <td>1.0</td>\n",
       "      <td>T-shirt Blanc</td>\n",
       "      <td>L</td>\n",
       "      <td>170</td>\n",
       "      <td>60.0</td>\n",
       "      <td>0</td>\n",
       "      <td>Carton Tete de menagere</td>\n",
       "      <td>0</td>\n",
       "      <td>0</td>\n",
       "    </tr>\n",
       "    <tr>\n",
       "      <th>2</th>\n",
       "      <td>446</td>\n",
       "      <td>Mme</td>\n",
       "      <td>CHRETIEN</td>\n",
       "      <td>Daniel</td>\n",
       "      <td>14540</td>\n",
       "      <td>BOURGUEBUS</td>\n",
       "      <td>478</td>\n",
       "      <td>2004-10-22 00:00:00</td>\n",
       "      <td>5.0</td>\n",
       "      <td>4.8</td>\n",
       "      <td>...</td>\n",
       "      <td>1.0</td>\n",
       "      <td>1.0</td>\n",
       "      <td>Montre</td>\n",
       "      <td>Homme</td>\n",
       "      <td>30</td>\n",
       "      <td>150.0</td>\n",
       "      <td>0</td>\n",
       "      <td>Carton Tete de menagere</td>\n",
       "      <td>0</td>\n",
       "      <td>0</td>\n",
       "    </tr>\n",
       "    <tr>\n",
       "      <th>3</th>\n",
       "      <td>17860</td>\n",
       "      <td>M.</td>\n",
       "      <td>VERARDO</td>\n",
       "      <td>Anthony</td>\n",
       "      <td>35400</td>\n",
       "      <td>SAINT MALO</td>\n",
       "      <td>21239</td>\n",
       "      <td>2006-10-03 00:00:00</td>\n",
       "      <td>0.0</td>\n",
       "      <td>3.9</td>\n",
       "      <td>...</td>\n",
       "      <td>1.0</td>\n",
       "      <td>1.0</td>\n",
       "      <td>T-shirt Blanc</td>\n",
       "      <td>XL</td>\n",
       "      <td>180</td>\n",
       "      <td>60.0</td>\n",
       "      <td>0</td>\n",
       "      <td>Distingo 500 g</td>\n",
       "      <td>34</td>\n",
       "      <td>0</td>\n",
       "    </tr>\n",
       "    <tr>\n",
       "      <th>4</th>\n",
       "      <td>1330</td>\n",
       "      <td>Mme</td>\n",
       "      <td>ROBERT</td>\n",
       "      <td>Yvonne</td>\n",
       "      <td>61000</td>\n",
       "      <td>ALENCON</td>\n",
       "      <td>1386</td>\n",
       "      <td>2004-11-23 00:00:00</td>\n",
       "      <td>4.0</td>\n",
       "      <td>6.5</td>\n",
       "      <td>...</td>\n",
       "      <td>3.0</td>\n",
       "      <td>1.0</td>\n",
       "      <td>Tete de menagere</td>\n",
       "      <td>Confidence</td>\n",
       "      <td>250</td>\n",
       "      <td>100.0</td>\n",
       "      <td>0</td>\n",
       "      <td>Carton Tete de menagere</td>\n",
       "      <td>0</td>\n",
       "      <td>0</td>\n",
       "    </tr>\n",
       "  </tbody>\n",
       "</table>\n",
       "<p>5 rows × 25 columns</p>\n",
       "</div>"
      ],
      "text/plain": [
       "   codcli genrecli    nomcli prenomcli  cpcli    villecli  codcde  \\\n",
       "0     446      Mme  CHRETIEN    Daniel  14540  BOURGUEBUS     478   \n",
       "1     446      Mme  CHRETIEN    Daniel  14540  BOURGUEBUS     478   \n",
       "2     446      Mme  CHRETIEN    Daniel  14540  BOURGUEBUS     478   \n",
       "3   17860       M.   VERARDO   Anthony  35400  SAINT MALO   21239   \n",
       "4    1330      Mme    ROBERT    Yvonne  61000     ALENCON    1386   \n",
       "\n",
       "                datcde  timbrecli  timbrecde  ...  qte  Colis  \\\n",
       "0  2004-10-22 00:00:00        5.0        4.8  ...  2.0    1.0   \n",
       "1  2004-10-22 00:00:00        5.0        4.8  ...  2.0    1.0   \n",
       "2  2004-10-22 00:00:00        5.0        4.8  ...  1.0    1.0   \n",
       "3  2006-10-03 00:00:00        0.0        3.9  ...  1.0    1.0   \n",
       "4  2004-11-23 00:00:00        4.0        6.5  ...  3.0    1.0   \n",
       "\n",
       "             libobj   Tailleobj  Poidsobj  points  indispobj  \\\n",
       "0              Polo          XL       230    60.0          0   \n",
       "1     T-shirt Blanc           L       170    60.0          0   \n",
       "2            Montre       Homme        30   150.0          0   \n",
       "3     T-shirt Blanc          XL       180    60.0          0   \n",
       "4  Tete de menagere  Confidence       250   100.0          0   \n",
       "\n",
       "                 libcondit prixcond  puobj  \n",
       "0  Carton Tete de menagere        0      0  \n",
       "1  Carton Tete de menagere        0      0  \n",
       "2  Carton Tete de menagere        0      0  \n",
       "3           Distingo 500 g       34      0  \n",
       "4  Carton Tete de menagere        0      0  \n",
       "\n",
       "[5 rows x 25 columns]"
      ]
     },
     "execution_count": 117,
     "metadata": {},
     "output_type": "execute_result"
    }
   ],
   "source": [
    "# Voir\n",
    "df.head()"
   ]
  },
  {
   "cell_type": "markdown",
   "id": "bd803b79",
   "metadata": {},
   "source": [
    "#### Nettoyage"
   ]
  },
  {
   "cell_type": "code",
   "execution_count": 118,
   "id": "f43b4792",
   "metadata": {},
   "outputs": [],
   "source": [
    "# Nan en 0\n",
    "df = df.fillna(0)"
   ]
  },
  {
   "cell_type": "markdown",
   "id": "9e038ab4",
   "metadata": {},
   "source": [
    "Dates"
   ]
  },
  {
   "cell_type": "code",
   "execution_count": 119,
   "id": "ed5134b3",
   "metadata": {},
   "outputs": [],
   "source": [
    "# turn in date\n",
    "df['datcde'] = pd.to_datetime(df['datcde'], errors='coerce')"
   ]
  },
  {
   "cell_type": "code",
   "execution_count": 120,
   "id": "fc853fc9",
   "metadata": {},
   "outputs": [],
   "source": [
    "# format\n",
    "df['datcde'] = df['datcde'].dt.strftime('%Y-%m-%d')"
   ]
  },
  {
   "cell_type": "code",
   "execution_count": 121,
   "id": "e72869d2",
   "metadata": {},
   "outputs": [],
   "source": [
    "# supprimer les dates inexistantes\n",
    "df_supprimé = df[(df['datcde'] < '1990-01-01') | (df['datcde'].isna())]"
   ]
  },
  {
   "cell_type": "code",
   "execution_count": 122,
   "id": "6dc5f5fa",
   "metadata": {},
   "outputs": [
    {
     "name": "stderr",
     "output_type": "stream",
     "text": [
      "C:\\Users\\f.dumont\\AppData\\Local\\Temp\\ipykernel_1012\\2741674458.py:1: SettingWithCopyWarning: \n",
      "A value is trying to be set on a copy of a slice from a DataFrame.\n",
      "Try using .loc[row_indexer,col_indexer] = value instead\n",
      "\n",
      "See the caveats in the documentation: https://pandas.pydata.org/pandas-docs/stable/user_guide/indexing.html#returning-a-view-versus-a-copy\n",
      "  df_supprimé['raison'] = 'Date erronée'\n"
     ]
    }
   ],
   "source": [
    "df_supprimé['raison'] = 'Date erronée'"
   ]
  },
  {
   "cell_type": "code",
   "execution_count": 123,
   "id": "bfdb1416",
   "metadata": {},
   "outputs": [],
   "source": [
    "# Supprimer les dates inexistantes\n",
    "df = df = df[(df['datcde'] >= '1990-01-01') & (df['datcde'].notna())]"
   ]
  },
  {
   "cell_type": "markdown",
   "id": "33f4fcc4",
   "metadata": {},
   "source": [
    "Code postaux"
   ]
  },
  {
   "cell_type": "code",
   "execution_count": 124,
   "id": "27c2fb6e",
   "metadata": {},
   "outputs": [],
   "source": [
    "df['cpcli'] = df['cpcli'].astype(str)\n",
    "df['DEP'] = df['cpcli'].str[0:2]"
   ]
  },
  {
   "cell_type": "code",
   "execution_count": 125,
   "id": "93815017",
   "metadata": {},
   "outputs": [
    {
     "data": {
      "application/vnd.microsoft.datawrangler.viewer.v0+json": {
       "columns": [
        {
         "name": "index",
         "rawType": "int64",
         "type": "integer"
        },
        {
         "name": "codcli",
         "rawType": "int64",
         "type": "integer"
        },
        {
         "name": "genrecli",
         "rawType": "object",
         "type": "string"
        },
        {
         "name": "nomcli",
         "rawType": "object",
         "type": "string"
        },
        {
         "name": "prenomcli",
         "rawType": "object",
         "type": "string"
        },
        {
         "name": "cpcli",
         "rawType": "object",
         "type": "string"
        },
        {
         "name": "villecli",
         "rawType": "object",
         "type": "string"
        },
        {
         "name": "codcde",
         "rawType": "int64",
         "type": "integer"
        },
        {
         "name": "datcde",
         "rawType": "object",
         "type": "string"
        },
        {
         "name": "timbrecli",
         "rawType": "float64",
         "type": "float"
        },
        {
         "name": "timbrecde",
         "rawType": "float64",
         "type": "float"
        },
        {
         "name": "Nbcolis",
         "rawType": "float64",
         "type": "float"
        },
        {
         "name": "cheqcli",
         "rawType": "float64",
         "type": "float"
        },
        {
         "name": "barchive",
         "rawType": "int64",
         "type": "integer"
        },
        {
         "name": "bstock",
         "rawType": "int64",
         "type": "integer"
        },
        {
         "name": "codobj",
         "rawType": "int64",
         "type": "integer"
        },
        {
         "name": "qte",
         "rawType": "float64",
         "type": "float"
        },
        {
         "name": "Colis",
         "rawType": "float64",
         "type": "float"
        },
        {
         "name": "libobj",
         "rawType": "object",
         "type": "string"
        },
        {
         "name": "Tailleobj",
         "rawType": "object",
         "type": "string"
        },
        {
         "name": "Poidsobj",
         "rawType": "int64",
         "type": "integer"
        },
        {
         "name": "points",
         "rawType": "float64",
         "type": "float"
        },
        {
         "name": "indispobj",
         "rawType": "int64",
         "type": "integer"
        },
        {
         "name": "libcondit",
         "rawType": "object",
         "type": "string"
        },
        {
         "name": "prixcond",
         "rawType": "int64",
         "type": "integer"
        },
        {
         "name": "puobj",
         "rawType": "int64",
         "type": "integer"
        },
        {
         "name": "DEP",
         "rawType": "object",
         "type": "string"
        }
       ],
       "ref": "b52cb61b-e599-45cd-9d8e-503184c0bb68",
       "rows": [
        [
         "0",
         "446",
         "Mme",
         "CHRETIEN",
         "Daniel",
         "14540",
         "BOURGUEBUS",
         "478",
         "2004-10-22",
         "5.0",
         "4.8",
         "1.0",
         "0.0",
         "1",
         "1",
         "38",
         "2.0",
         "1.0",
         "Polo",
         "XL",
         "230",
         "60.0",
         "0",
         "Carton Tete de menagere",
         "0",
         "0",
         "14"
        ],
        [
         "1",
         "446",
         "Mme",
         "CHRETIEN",
         "Daniel",
         "14540",
         "BOURGUEBUS",
         "478",
         "2004-10-22",
         "5.0",
         "4.8",
         "1.0",
         "0.0",
         "1",
         "1",
         "30",
         "2.0",
         "1.0",
         "T-shirt Blanc",
         "L",
         "170",
         "60.0",
         "0",
         "Carton Tete de menagere",
         "0",
         "0",
         "14"
        ],
        [
         "2",
         "446",
         "Mme",
         "CHRETIEN",
         "Daniel",
         "14540",
         "BOURGUEBUS",
         "478",
         "2004-10-22",
         "5.0",
         "4.8",
         "1.0",
         "0.0",
         "1",
         "1",
         "45",
         "1.0",
         "1.0",
         "Montre",
         "Homme",
         "30",
         "150.0",
         "0",
         "Carton Tete de menagere",
         "0",
         "0",
         "14"
        ],
        [
         "3",
         "17860",
         "M.",
         "VERARDO",
         "Anthony",
         "35400",
         "SAINT MALO",
         "21239",
         "2006-10-03",
         "0.0",
         "3.9",
         "1.0",
         "1.45",
         "1",
         "1",
         "31",
         "1.0",
         "1.0",
         "T-shirt Blanc",
         "XL",
         "180",
         "60.0",
         "0",
         "Distingo 500 g",
         "34",
         "0",
         "35"
        ],
        [
         "4",
         "1330",
         "Mme",
         "ROBERT",
         "Yvonne",
         "61000",
         "ALENCON",
         "1386",
         "2004-11-23",
         "4.0",
         "6.5",
         "1.0",
         "0.0",
         "1",
         "1",
         "42",
         "3.0",
         "1.0",
         "Tete de menagere",
         "Confidence",
         "250",
         "100.0",
         "0",
         "Carton Tete de menagere",
         "0",
         "0",
         "61"
        ]
       ],
       "shape": {
        "columns": 26,
        "rows": 5
       }
      },
      "text/html": [
       "<div>\n",
       "<style scoped>\n",
       "    .dataframe tbody tr th:only-of-type {\n",
       "        vertical-align: middle;\n",
       "    }\n",
       "\n",
       "    .dataframe tbody tr th {\n",
       "        vertical-align: top;\n",
       "    }\n",
       "\n",
       "    .dataframe thead th {\n",
       "        text-align: right;\n",
       "    }\n",
       "</style>\n",
       "<table border=\"1\" class=\"dataframe\">\n",
       "  <thead>\n",
       "    <tr style=\"text-align: right;\">\n",
       "      <th></th>\n",
       "      <th>codcli</th>\n",
       "      <th>genrecli</th>\n",
       "      <th>nomcli</th>\n",
       "      <th>prenomcli</th>\n",
       "      <th>cpcli</th>\n",
       "      <th>villecli</th>\n",
       "      <th>codcde</th>\n",
       "      <th>datcde</th>\n",
       "      <th>timbrecli</th>\n",
       "      <th>timbrecde</th>\n",
       "      <th>...</th>\n",
       "      <th>Colis</th>\n",
       "      <th>libobj</th>\n",
       "      <th>Tailleobj</th>\n",
       "      <th>Poidsobj</th>\n",
       "      <th>points</th>\n",
       "      <th>indispobj</th>\n",
       "      <th>libcondit</th>\n",
       "      <th>prixcond</th>\n",
       "      <th>puobj</th>\n",
       "      <th>DEP</th>\n",
       "    </tr>\n",
       "  </thead>\n",
       "  <tbody>\n",
       "    <tr>\n",
       "      <th>0</th>\n",
       "      <td>446</td>\n",
       "      <td>Mme</td>\n",
       "      <td>CHRETIEN</td>\n",
       "      <td>Daniel</td>\n",
       "      <td>14540</td>\n",
       "      <td>BOURGUEBUS</td>\n",
       "      <td>478</td>\n",
       "      <td>2004-10-22</td>\n",
       "      <td>5.0</td>\n",
       "      <td>4.8</td>\n",
       "      <td>...</td>\n",
       "      <td>1.0</td>\n",
       "      <td>Polo</td>\n",
       "      <td>XL</td>\n",
       "      <td>230</td>\n",
       "      <td>60.0</td>\n",
       "      <td>0</td>\n",
       "      <td>Carton Tete de menagere</td>\n",
       "      <td>0</td>\n",
       "      <td>0</td>\n",
       "      <td>14</td>\n",
       "    </tr>\n",
       "    <tr>\n",
       "      <th>1</th>\n",
       "      <td>446</td>\n",
       "      <td>Mme</td>\n",
       "      <td>CHRETIEN</td>\n",
       "      <td>Daniel</td>\n",
       "      <td>14540</td>\n",
       "      <td>BOURGUEBUS</td>\n",
       "      <td>478</td>\n",
       "      <td>2004-10-22</td>\n",
       "      <td>5.0</td>\n",
       "      <td>4.8</td>\n",
       "      <td>...</td>\n",
       "      <td>1.0</td>\n",
       "      <td>T-shirt Blanc</td>\n",
       "      <td>L</td>\n",
       "      <td>170</td>\n",
       "      <td>60.0</td>\n",
       "      <td>0</td>\n",
       "      <td>Carton Tete de menagere</td>\n",
       "      <td>0</td>\n",
       "      <td>0</td>\n",
       "      <td>14</td>\n",
       "    </tr>\n",
       "    <tr>\n",
       "      <th>2</th>\n",
       "      <td>446</td>\n",
       "      <td>Mme</td>\n",
       "      <td>CHRETIEN</td>\n",
       "      <td>Daniel</td>\n",
       "      <td>14540</td>\n",
       "      <td>BOURGUEBUS</td>\n",
       "      <td>478</td>\n",
       "      <td>2004-10-22</td>\n",
       "      <td>5.0</td>\n",
       "      <td>4.8</td>\n",
       "      <td>...</td>\n",
       "      <td>1.0</td>\n",
       "      <td>Montre</td>\n",
       "      <td>Homme</td>\n",
       "      <td>30</td>\n",
       "      <td>150.0</td>\n",
       "      <td>0</td>\n",
       "      <td>Carton Tete de menagere</td>\n",
       "      <td>0</td>\n",
       "      <td>0</td>\n",
       "      <td>14</td>\n",
       "    </tr>\n",
       "    <tr>\n",
       "      <th>3</th>\n",
       "      <td>17860</td>\n",
       "      <td>M.</td>\n",
       "      <td>VERARDO</td>\n",
       "      <td>Anthony</td>\n",
       "      <td>35400</td>\n",
       "      <td>SAINT MALO</td>\n",
       "      <td>21239</td>\n",
       "      <td>2006-10-03</td>\n",
       "      <td>0.0</td>\n",
       "      <td>3.9</td>\n",
       "      <td>...</td>\n",
       "      <td>1.0</td>\n",
       "      <td>T-shirt Blanc</td>\n",
       "      <td>XL</td>\n",
       "      <td>180</td>\n",
       "      <td>60.0</td>\n",
       "      <td>0</td>\n",
       "      <td>Distingo 500 g</td>\n",
       "      <td>34</td>\n",
       "      <td>0</td>\n",
       "      <td>35</td>\n",
       "    </tr>\n",
       "    <tr>\n",
       "      <th>4</th>\n",
       "      <td>1330</td>\n",
       "      <td>Mme</td>\n",
       "      <td>ROBERT</td>\n",
       "      <td>Yvonne</td>\n",
       "      <td>61000</td>\n",
       "      <td>ALENCON</td>\n",
       "      <td>1386</td>\n",
       "      <td>2004-11-23</td>\n",
       "      <td>4.0</td>\n",
       "      <td>6.5</td>\n",
       "      <td>...</td>\n",
       "      <td>1.0</td>\n",
       "      <td>Tete de menagere</td>\n",
       "      <td>Confidence</td>\n",
       "      <td>250</td>\n",
       "      <td>100.0</td>\n",
       "      <td>0</td>\n",
       "      <td>Carton Tete de menagere</td>\n",
       "      <td>0</td>\n",
       "      <td>0</td>\n",
       "      <td>61</td>\n",
       "    </tr>\n",
       "  </tbody>\n",
       "</table>\n",
       "<p>5 rows × 26 columns</p>\n",
       "</div>"
      ],
      "text/plain": [
       "   codcli genrecli    nomcli prenomcli  cpcli    villecli  codcde      datcde  \\\n",
       "0     446      Mme  CHRETIEN    Daniel  14540  BOURGUEBUS     478  2004-10-22   \n",
       "1     446      Mme  CHRETIEN    Daniel  14540  BOURGUEBUS     478  2004-10-22   \n",
       "2     446      Mme  CHRETIEN    Daniel  14540  BOURGUEBUS     478  2004-10-22   \n",
       "3   17860       M.   VERARDO   Anthony  35400  SAINT MALO   21239  2006-10-03   \n",
       "4    1330      Mme    ROBERT    Yvonne  61000     ALENCON    1386  2004-11-23   \n",
       "\n",
       "   timbrecli  timbrecde  ...  Colis            libobj   Tailleobj  Poidsobj  \\\n",
       "0        5.0        4.8  ...    1.0              Polo          XL       230   \n",
       "1        5.0        4.8  ...    1.0     T-shirt Blanc           L       170   \n",
       "2        5.0        4.8  ...    1.0            Montre       Homme        30   \n",
       "3        0.0        3.9  ...    1.0     T-shirt Blanc          XL       180   \n",
       "4        4.0        6.5  ...    1.0  Tete de menagere  Confidence       250   \n",
       "\n",
       "   points  indispobj                libcondit prixcond puobj  DEP  \n",
       "0    60.0          0  Carton Tete de menagere        0     0   14  \n",
       "1    60.0          0  Carton Tete de menagere        0     0   14  \n",
       "2   150.0          0  Carton Tete de menagere        0     0   14  \n",
       "3    60.0          0           Distingo 500 g       34     0   35  \n",
       "4   100.0          0  Carton Tete de menagere        0     0   61  \n",
       "\n",
       "[5 rows x 26 columns]"
      ]
     },
     "execution_count": 125,
     "metadata": {},
     "output_type": "execute_result"
    }
   ],
   "source": [
    "df.head()"
   ]
  },
  {
   "cell_type": "code",
   "execution_count": 126,
   "id": "aa834994",
   "metadata": {},
   "outputs": [],
   "source": [
    "# filtrer\n",
    "masque_chiffres = df['DEP'].str.isdigit()"
   ]
  },
  {
   "cell_type": "code",
   "execution_count": 127,
   "id": "36c28a6c",
   "metadata": {},
   "outputs": [],
   "source": [
    "df_dep_supprimé = df[~masque_chiffres]"
   ]
  },
  {
   "cell_type": "code",
   "execution_count": 128,
   "id": "1a3de187",
   "metadata": {},
   "outputs": [],
   "source": [
    "df_dep_supprimé['raison']='DEP érroné'"
   ]
  },
  {
   "cell_type": "code",
   "execution_count": 129,
   "id": "6dcec4d6",
   "metadata": {},
   "outputs": [],
   "source": [
    "# ajouter ces lignes au df_supprimé\n",
    "df_supprimé = pd.concat([df_supprimé, df_dep_supprimé])"
   ]
  },
  {
   "cell_type": "code",
   "execution_count": 130,
   "id": "31a6bcd8",
   "metadata": {},
   "outputs": [],
   "source": [
    "df = df[masque_chiffres]"
   ]
  },
  {
   "cell_type": "markdown",
   "id": "7f570024",
   "metadata": {},
   "source": [
    "zone de textes"
   ]
  },
  {
   "cell_type": "code",
   "execution_count": 131,
   "id": "fcd3fbd0",
   "metadata": {},
   "outputs": [],
   "source": [
    "# colonnes à nettoyer :\n",
    "nettoyer_text = ['nomcli', 'prenomcli', 'villecli']"
   ]
  },
  {
   "cell_type": "code",
   "execution_count": 132,
   "id": "886814bc",
   "metadata": {},
   "outputs": [],
   "source": [
    "# enlever les caractères spéciaux\n",
    "df[nettoyer_text] = df[nettoyer_text].map(nettoyer_caracteres)"
   ]
  },
  {
   "cell_type": "code",
   "execution_count": 133,
   "id": "52c2b4f6",
   "metadata": {},
   "outputs": [],
   "source": [
    "df['nomcli']=df['nomcli'].str.title()"
   ]
  },
  {
   "cell_type": "code",
   "execution_count": 134,
   "id": "65ce8ccf",
   "metadata": {},
   "outputs": [],
   "source": [
    "df['prenomcli']=df['prenomcli'].str.title()"
   ]
  },
  {
   "cell_type": "code",
   "execution_count": 135,
   "id": "1c5d4920",
   "metadata": {},
   "outputs": [],
   "source": [
    "df['villecli']=df['villecli'].str.title()"
   ]
  },
  {
   "cell_type": "markdown",
   "id": "fa6257e3",
   "metadata": {},
   "source": [
    "Supprimer les .0 dans les index et int"
   ]
  },
  {
   "cell_type": "code",
   "execution_count": 136,
   "id": "778040e6",
   "metadata": {},
   "outputs": [],
   "source": [
    "df['codcde'] = df['codcde'].astype(int)"
   ]
  },
  {
   "cell_type": "code",
   "execution_count": 137,
   "id": "0aa98e39",
   "metadata": {},
   "outputs": [],
   "source": [
    "df['codcli'] = df['codcli'].astype(int)"
   ]
  },
  {
   "cell_type": "code",
   "execution_count": 138,
   "id": "ed866492",
   "metadata": {},
   "outputs": [],
   "source": [
    "df['codobj'] = df['codobj'].astype(int)"
   ]
  },
  {
   "cell_type": "code",
   "execution_count": 139,
   "id": "c1a364d4",
   "metadata": {},
   "outputs": [],
   "source": [
    "df['qte'] = df['qte'].astype(int)"
   ]
  },
  {
   "cell_type": "code",
   "execution_count": 140,
   "id": "3c678046",
   "metadata": {},
   "outputs": [
    {
     "data": {
      "application/vnd.microsoft.datawrangler.viewer.v0+json": {
       "columns": [
        {
         "name": "index",
         "rawType": "int64",
         "type": "integer"
        },
        {
         "name": "codcli",
         "rawType": "int64",
         "type": "integer"
        },
        {
         "name": "genrecli",
         "rawType": "object",
         "type": "string"
        },
        {
         "name": "nomcli",
         "rawType": "object",
         "type": "string"
        },
        {
         "name": "prenomcli",
         "rawType": "object",
         "type": "string"
        },
        {
         "name": "cpcli",
         "rawType": "object",
         "type": "string"
        },
        {
         "name": "villecli",
         "rawType": "object",
         "type": "string"
        },
        {
         "name": "codcde",
         "rawType": "int64",
         "type": "integer"
        },
        {
         "name": "datcde",
         "rawType": "object",
         "type": "string"
        },
        {
         "name": "timbrecli",
         "rawType": "float64",
         "type": "float"
        },
        {
         "name": "timbrecde",
         "rawType": "float64",
         "type": "float"
        },
        {
         "name": "Nbcolis",
         "rawType": "float64",
         "type": "float"
        },
        {
         "name": "cheqcli",
         "rawType": "float64",
         "type": "float"
        },
        {
         "name": "barchive",
         "rawType": "int64",
         "type": "integer"
        },
        {
         "name": "bstock",
         "rawType": "int64",
         "type": "integer"
        },
        {
         "name": "codobj",
         "rawType": "int64",
         "type": "integer"
        },
        {
         "name": "qte",
         "rawType": "int64",
         "type": "integer"
        },
        {
         "name": "Colis",
         "rawType": "float64",
         "type": "float"
        },
        {
         "name": "libobj",
         "rawType": "object",
         "type": "string"
        },
        {
         "name": "Tailleobj",
         "rawType": "object",
         "type": "string"
        },
        {
         "name": "Poidsobj",
         "rawType": "int64",
         "type": "integer"
        },
        {
         "name": "points",
         "rawType": "float64",
         "type": "float"
        },
        {
         "name": "indispobj",
         "rawType": "int64",
         "type": "integer"
        },
        {
         "name": "libcondit",
         "rawType": "object",
         "type": "string"
        },
        {
         "name": "prixcond",
         "rawType": "int64",
         "type": "integer"
        },
        {
         "name": "puobj",
         "rawType": "int64",
         "type": "integer"
        },
        {
         "name": "DEP",
         "rawType": "object",
         "type": "string"
        }
       ],
       "ref": "dfbe07f7-56bb-4ad7-bbba-129439e11c92",
       "rows": [
        [
         "0",
         "446",
         "Mme",
         "Chretien",
         "Daniel",
         "14540",
         "Bourguebus",
         "478",
         "2004-10-22",
         "5.0",
         "4.8",
         "1.0",
         "0.0",
         "1",
         "1",
         "38",
         "2",
         "1.0",
         "Polo",
         "XL",
         "230",
         "60.0",
         "0",
         "Carton Tete de menagere",
         "0",
         "0",
         "14"
        ],
        [
         "1",
         "446",
         "Mme",
         "Chretien",
         "Daniel",
         "14540",
         "Bourguebus",
         "478",
         "2004-10-22",
         "5.0",
         "4.8",
         "1.0",
         "0.0",
         "1",
         "1",
         "30",
         "2",
         "1.0",
         "T-shirt Blanc",
         "L",
         "170",
         "60.0",
         "0",
         "Carton Tete de menagere",
         "0",
         "0",
         "14"
        ],
        [
         "2",
         "446",
         "Mme",
         "Chretien",
         "Daniel",
         "14540",
         "Bourguebus",
         "478",
         "2004-10-22",
         "5.0",
         "4.8",
         "1.0",
         "0.0",
         "1",
         "1",
         "45",
         "1",
         "1.0",
         "Montre",
         "Homme",
         "30",
         "150.0",
         "0",
         "Carton Tete de menagere",
         "0",
         "0",
         "14"
        ],
        [
         "3",
         "17860",
         "M.",
         "Verardo",
         "Anthony",
         "35400",
         "Saint Malo",
         "21239",
         "2006-10-03",
         "0.0",
         "3.9",
         "1.0",
         "1.45",
         "1",
         "1",
         "31",
         "1",
         "1.0",
         "T-shirt Blanc",
         "XL",
         "180",
         "60.0",
         "0",
         "Distingo 500 g",
         "34",
         "0",
         "35"
        ],
        [
         "4",
         "1330",
         "Mme",
         "Robert",
         "Yvonne",
         "61000",
         "Alencon",
         "1386",
         "2004-11-23",
         "4.0",
         "6.5",
         "1.0",
         "0.0",
         "1",
         "1",
         "42",
         "3",
         "1.0",
         "Tete de menagere",
         "Confidence",
         "250",
         "100.0",
         "0",
         "Carton Tete de menagere",
         "0",
         "0",
         "61"
        ]
       ],
       "shape": {
        "columns": 26,
        "rows": 5
       }
      },
      "text/html": [
       "<div>\n",
       "<style scoped>\n",
       "    .dataframe tbody tr th:only-of-type {\n",
       "        vertical-align: middle;\n",
       "    }\n",
       "\n",
       "    .dataframe tbody tr th {\n",
       "        vertical-align: top;\n",
       "    }\n",
       "\n",
       "    .dataframe thead th {\n",
       "        text-align: right;\n",
       "    }\n",
       "</style>\n",
       "<table border=\"1\" class=\"dataframe\">\n",
       "  <thead>\n",
       "    <tr style=\"text-align: right;\">\n",
       "      <th></th>\n",
       "      <th>codcli</th>\n",
       "      <th>genrecli</th>\n",
       "      <th>nomcli</th>\n",
       "      <th>prenomcli</th>\n",
       "      <th>cpcli</th>\n",
       "      <th>villecli</th>\n",
       "      <th>codcde</th>\n",
       "      <th>datcde</th>\n",
       "      <th>timbrecli</th>\n",
       "      <th>timbrecde</th>\n",
       "      <th>...</th>\n",
       "      <th>Colis</th>\n",
       "      <th>libobj</th>\n",
       "      <th>Tailleobj</th>\n",
       "      <th>Poidsobj</th>\n",
       "      <th>points</th>\n",
       "      <th>indispobj</th>\n",
       "      <th>libcondit</th>\n",
       "      <th>prixcond</th>\n",
       "      <th>puobj</th>\n",
       "      <th>DEP</th>\n",
       "    </tr>\n",
       "  </thead>\n",
       "  <tbody>\n",
       "    <tr>\n",
       "      <th>0</th>\n",
       "      <td>446</td>\n",
       "      <td>Mme</td>\n",
       "      <td>Chretien</td>\n",
       "      <td>Daniel</td>\n",
       "      <td>14540</td>\n",
       "      <td>Bourguebus</td>\n",
       "      <td>478</td>\n",
       "      <td>2004-10-22</td>\n",
       "      <td>5.0</td>\n",
       "      <td>4.8</td>\n",
       "      <td>...</td>\n",
       "      <td>1.0</td>\n",
       "      <td>Polo</td>\n",
       "      <td>XL</td>\n",
       "      <td>230</td>\n",
       "      <td>60.0</td>\n",
       "      <td>0</td>\n",
       "      <td>Carton Tete de menagere</td>\n",
       "      <td>0</td>\n",
       "      <td>0</td>\n",
       "      <td>14</td>\n",
       "    </tr>\n",
       "    <tr>\n",
       "      <th>1</th>\n",
       "      <td>446</td>\n",
       "      <td>Mme</td>\n",
       "      <td>Chretien</td>\n",
       "      <td>Daniel</td>\n",
       "      <td>14540</td>\n",
       "      <td>Bourguebus</td>\n",
       "      <td>478</td>\n",
       "      <td>2004-10-22</td>\n",
       "      <td>5.0</td>\n",
       "      <td>4.8</td>\n",
       "      <td>...</td>\n",
       "      <td>1.0</td>\n",
       "      <td>T-shirt Blanc</td>\n",
       "      <td>L</td>\n",
       "      <td>170</td>\n",
       "      <td>60.0</td>\n",
       "      <td>0</td>\n",
       "      <td>Carton Tete de menagere</td>\n",
       "      <td>0</td>\n",
       "      <td>0</td>\n",
       "      <td>14</td>\n",
       "    </tr>\n",
       "    <tr>\n",
       "      <th>2</th>\n",
       "      <td>446</td>\n",
       "      <td>Mme</td>\n",
       "      <td>Chretien</td>\n",
       "      <td>Daniel</td>\n",
       "      <td>14540</td>\n",
       "      <td>Bourguebus</td>\n",
       "      <td>478</td>\n",
       "      <td>2004-10-22</td>\n",
       "      <td>5.0</td>\n",
       "      <td>4.8</td>\n",
       "      <td>...</td>\n",
       "      <td>1.0</td>\n",
       "      <td>Montre</td>\n",
       "      <td>Homme</td>\n",
       "      <td>30</td>\n",
       "      <td>150.0</td>\n",
       "      <td>0</td>\n",
       "      <td>Carton Tete de menagere</td>\n",
       "      <td>0</td>\n",
       "      <td>0</td>\n",
       "      <td>14</td>\n",
       "    </tr>\n",
       "    <tr>\n",
       "      <th>3</th>\n",
       "      <td>17860</td>\n",
       "      <td>M.</td>\n",
       "      <td>Verardo</td>\n",
       "      <td>Anthony</td>\n",
       "      <td>35400</td>\n",
       "      <td>Saint Malo</td>\n",
       "      <td>21239</td>\n",
       "      <td>2006-10-03</td>\n",
       "      <td>0.0</td>\n",
       "      <td>3.9</td>\n",
       "      <td>...</td>\n",
       "      <td>1.0</td>\n",
       "      <td>T-shirt Blanc</td>\n",
       "      <td>XL</td>\n",
       "      <td>180</td>\n",
       "      <td>60.0</td>\n",
       "      <td>0</td>\n",
       "      <td>Distingo 500 g</td>\n",
       "      <td>34</td>\n",
       "      <td>0</td>\n",
       "      <td>35</td>\n",
       "    </tr>\n",
       "    <tr>\n",
       "      <th>4</th>\n",
       "      <td>1330</td>\n",
       "      <td>Mme</td>\n",
       "      <td>Robert</td>\n",
       "      <td>Yvonne</td>\n",
       "      <td>61000</td>\n",
       "      <td>Alencon</td>\n",
       "      <td>1386</td>\n",
       "      <td>2004-11-23</td>\n",
       "      <td>4.0</td>\n",
       "      <td>6.5</td>\n",
       "      <td>...</td>\n",
       "      <td>1.0</td>\n",
       "      <td>Tete de menagere</td>\n",
       "      <td>Confidence</td>\n",
       "      <td>250</td>\n",
       "      <td>100.0</td>\n",
       "      <td>0</td>\n",
       "      <td>Carton Tete de menagere</td>\n",
       "      <td>0</td>\n",
       "      <td>0</td>\n",
       "      <td>61</td>\n",
       "    </tr>\n",
       "  </tbody>\n",
       "</table>\n",
       "<p>5 rows × 26 columns</p>\n",
       "</div>"
      ],
      "text/plain": [
       "   codcli genrecli    nomcli prenomcli  cpcli    villecli  codcde      datcde  \\\n",
       "0     446      Mme  Chretien    Daniel  14540  Bourguebus     478  2004-10-22   \n",
       "1     446      Mme  Chretien    Daniel  14540  Bourguebus     478  2004-10-22   \n",
       "2     446      Mme  Chretien    Daniel  14540  Bourguebus     478  2004-10-22   \n",
       "3   17860       M.   Verardo   Anthony  35400  Saint Malo   21239  2006-10-03   \n",
       "4    1330      Mme    Robert    Yvonne  61000     Alencon    1386  2004-11-23   \n",
       "\n",
       "   timbrecli  timbrecde  ...  Colis            libobj   Tailleobj  Poidsobj  \\\n",
       "0        5.0        4.8  ...    1.0              Polo          XL       230   \n",
       "1        5.0        4.8  ...    1.0     T-shirt Blanc           L       170   \n",
       "2        5.0        4.8  ...    1.0            Montre       Homme        30   \n",
       "3        0.0        3.9  ...    1.0     T-shirt Blanc          XL       180   \n",
       "4        4.0        6.5  ...    1.0  Tete de menagere  Confidence       250   \n",
       "\n",
       "   points  indispobj                libcondit prixcond puobj  DEP  \n",
       "0    60.0          0  Carton Tete de menagere        0     0   14  \n",
       "1    60.0          0  Carton Tete de menagere        0     0   14  \n",
       "2   150.0          0  Carton Tete de menagere        0     0   14  \n",
       "3    60.0          0           Distingo 500 g       34     0   35  \n",
       "4   100.0          0  Carton Tete de menagere        0     0   61  \n",
       "\n",
       "[5 rows x 26 columns]"
      ]
     },
     "execution_count": 140,
     "metadata": {},
     "output_type": "execute_result"
    }
   ],
   "source": [
    "df.head()"
   ]
  },
  {
   "cell_type": "code",
   "execution_count": 141,
   "id": "9653619c",
   "metadata": {},
   "outputs": [
    {
     "data": {
      "application/vnd.microsoft.datawrangler.viewer.v0+json": {
       "columns": [
        {
         "name": "index",
         "rawType": "object",
         "type": "string"
        },
        {
         "name": "0",
         "rawType": "object",
         "type": "unknown"
        }
       ],
       "ref": "a05e3549-abe9-463a-8548-094c019d0c6c",
       "rows": [
        [
         "codcli",
         "int64"
        ],
        [
         "genrecli",
         "object"
        ],
        [
         "nomcli",
         "object"
        ],
        [
         "prenomcli",
         "object"
        ],
        [
         "cpcli",
         "object"
        ],
        [
         "villecli",
         "object"
        ],
        [
         "codcde",
         "int64"
        ],
        [
         "datcde",
         "object"
        ],
        [
         "timbrecli",
         "float64"
        ],
        [
         "timbrecde",
         "float64"
        ],
        [
         "Nbcolis",
         "float64"
        ],
        [
         "cheqcli",
         "float64"
        ],
        [
         "barchive",
         "int64"
        ],
        [
         "bstock",
         "int64"
        ],
        [
         "codobj",
         "int64"
        ],
        [
         "qte",
         "int64"
        ],
        [
         "Colis",
         "float64"
        ],
        [
         "libobj",
         "object"
        ],
        [
         "Tailleobj",
         "object"
        ],
        [
         "Poidsobj",
         "int64"
        ],
        [
         "points",
         "float64"
        ],
        [
         "indispobj",
         "int64"
        ],
        [
         "libcondit",
         "object"
        ],
        [
         "prixcond",
         "int64"
        ],
        [
         "puobj",
         "int64"
        ],
        [
         "DEP",
         "object"
        ]
       ],
       "shape": {
        "columns": 1,
        "rows": 26
       }
      },
      "text/plain": [
       "codcli         int64\n",
       "genrecli      object\n",
       "nomcli        object\n",
       "prenomcli     object\n",
       "cpcli         object\n",
       "villecli      object\n",
       "codcde         int64\n",
       "datcde        object\n",
       "timbrecli    float64\n",
       "timbrecde    float64\n",
       "Nbcolis      float64\n",
       "cheqcli      float64\n",
       "barchive       int64\n",
       "bstock         int64\n",
       "codobj         int64\n",
       "qte            int64\n",
       "Colis        float64\n",
       "libobj        object\n",
       "Tailleobj     object\n",
       "Poidsobj       int64\n",
       "points       float64\n",
       "indispobj      int64\n",
       "libcondit     object\n",
       "prixcond       int64\n",
       "puobj          int64\n",
       "DEP           object\n",
       "dtype: object"
      ]
     },
     "execution_count": 141,
     "metadata": {},
     "output_type": "execute_result"
    }
   ],
   "source": [
    "df.dtypes"
   ]
  },
  {
   "cell_type": "markdown",
   "id": "68fc8f9b",
   "metadata": {},
   "source": [
    "#### Doublons"
   ]
  },
  {
   "cell_type": "code",
   "execution_count": 142,
   "id": "989f2e22",
   "metadata": {},
   "outputs": [],
   "source": [
    "masque_doublons = df.duplicated()\n",
    "df_doublons = df[masque_doublons].copy()\n",
    "df_doublons.loc[:, 'raison'] = 'Doublon'"
   ]
  },
  {
   "cell_type": "code",
   "execution_count": 143,
   "id": "4aacca05",
   "metadata": {},
   "outputs": [],
   "source": [
    "# ajouter ces lignes au df_supprimé\n",
    "df_supprimé = pd.concat([df_supprimé, df_doublons])"
   ]
  },
  {
   "cell_type": "code",
   "execution_count": 144,
   "id": "396680bd",
   "metadata": {},
   "outputs": [],
   "source": [
    "df = df.drop_duplicates()"
   ]
  },
  {
   "cell_type": "markdown",
   "id": "a224ae69",
   "metadata": {},
   "source": [
    "#### Mise en forme"
   ]
  },
  {
   "cell_type": "code",
   "execution_count": 145,
   "id": "9c395df8",
   "metadata": {},
   "outputs": [],
   "source": [
    "# changer l'ordre des colonnes\n",
    "df=df[['codcde','datcde','codobj', 'libobj','qte', 'timbrecli',\n",
    "       'timbrecde','codcli','nomcli','prenomcli','cpcli','villecli','DEP']]"
   ]
  },
  {
   "cell_type": "code",
   "execution_count": 146,
   "id": "ed2b44bb",
   "metadata": {},
   "outputs": [],
   "source": [
    "# Trier par numéro de commande\n",
    "df = df.sort_values('codcde').reset_index(drop=True)"
   ]
  },
  {
   "cell_type": "code",
   "execution_count": 147,
   "id": "7292788e",
   "metadata": {},
   "outputs": [],
   "source": [
    "df['timbrecde']=df['timbrecde'].astype(float)"
   ]
  },
  {
   "cell_type": "code",
   "execution_count": null,
   "id": "0c47a806",
   "metadata": {},
   "outputs": [],
   "source": [
    "# Enregistrement du csv\n",
    "df.to_csv('DW.csv', index=False)"
   ]
  },
  {
   "cell_type": "code",
   "execution_count": null,
   "id": "3f80a7c6",
   "metadata": {},
   "outputs": [],
   "source": [
    "df_supprimé.to_csv('DW_lines_deleted.csv', index=False)"
   ]
  }
 ],
 "metadata": {
  "kernelspec": {
   "display_name": ".venv",
   "language": "python",
   "name": "python3"
  },
  "language_info": {
   "codemirror_mode": {
    "name": "ipython",
    "version": 3
   },
   "file_extension": ".py",
   "mimetype": "text/x-python",
   "name": "python",
   "nbconvert_exporter": "python",
   "pygments_lexer": "ipython3",
   "version": "3.12.6"
  }
 },
 "nbformat": 4,
 "nbformat_minor": 5
}
